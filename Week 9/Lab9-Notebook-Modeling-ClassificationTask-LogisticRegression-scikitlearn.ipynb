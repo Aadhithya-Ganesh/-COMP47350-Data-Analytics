{
 "cells": [
  {
   "cell_type": "markdown",
   "metadata": {},
   "source": [
    "# Logistic Regression\n",
    "The purpose of this notebook is to practice training, interpreting and evaluating a classification algorithm named **logistic regression.**\n",
    "We will use the Python packages: pandas, matplotlib, scikit-learn.\n",
    "Besides the material presented in this notebook, please also read this [notebook](https://github.com/justmarkham/DAT8/blob/master/notebooks/12_logistic_regression.ipynb) that gives an example of using logistic regression with scikit-learn. \n",
    "\n",
    "Similar to linear regresison, training a logistic regression model means estimating a set of weights (one weight per feature, plus an extra weight called the bias or the intercept) on a dataset called the training set. \n",
    "\n",
    "In classification the aim is to classify an example into one of two classes (target feature is 0 or 1).\n",
    "If we have several classes, we use a one-vs-all approach, by creating one dataset for each class.\n",
    "A good introductory tutorial for classification using scikit-learn is [here](https://www.datarobot.com/blog/classification-with-scikit-learn/).\n",
    "\n",
    "Remember that linear regression was directly predicting a numeric target feature:\n",
    "$target\\_feature = w_0 + w_1 * feature_1 + w_2*feature_2 + ...+ w_n*feature_n$\n",
    "\n",
    "In classification we can interpret the target feature as the probability of class membership:\n",
    "$probability(target=1|descriptive\\_features)=w_0 + w_1 * feature_1 + w_2*feature_2 + ...+ w_n*feature_n$\n",
    "\n",
    "The prediction output can be any real-number, but we can threshold it at 0.5 to decide the class.\n",
    "If $probability(target=1|descriptive\\_features) \\geq 0.5$ then predict class 1, else predict class 0.\n",
    "\n",
    "The model estimated in logistic regression assumes the probability of class membership is given by the logistic function:\n",
    "$probability(target=1|descriptive\\_features)=logistic(w_0 + w_1 * feature_1 + w_2*feature_2 + ...+ w_n*feature_n)$\n",
    "where $logistic(x)$ is defined as: $logistic(x) = \\frac{e ^ x}{1 + e ^ x} = \\frac{1}{1+e^{-x}}$\n",
    "\n",
    "There is a direct relationship between the linear combination and the logistic function.\n",
    "\n",
    "When $w_0 + w_1 * feature_1 + w_2*feature_2 + ...+ w_n*feature_n \\geq 0$ then \n",
    "$logistic(w_0 + w_1 * feature_1 + w_2*feature_2 + ...+ w_n*feature_n) \\geq 0.5$. This means that points above the estimated line (e.g., $w_0 + w_1 * feature_1 + w_2*feature_2 + ...+ w_n*feature_n \\geq 0$) will be classified in class 1, and points below the line (e.g., $w_0 + w_1 * feature_1 + w_2*feature_2 + ...+ w_n*feature_n < 0$), will be classified in class 0. This linear combination estimated in logistic regression is called the decision surface of the classifier.\n",
    "\n",
    "The learned logistic regresison model (e.g., set of weights $w_0, w_1, ..., w_n$) can be used to predict the probability of the target feature for new examples where we know the descriptive features, but not the target feature. "
   ]
  },
  {
   "cell_type": "markdown",
   "metadata": {},
   "source": [
    "## Reading data"
   ]
  },
  {
   "cell_type": "code",
   "execution_count": 3,
   "metadata": {},
   "outputs": [],
   "source": [
    "# Read into a dataframe a CSV dataset with 10 example offices \n",
    "# described by 5 features (4 descriptive features: Size, Floor, BroadbandRate, EnergyRating;\n",
    "# the target feature: RentalPrice).\n",
    "\n",
    "# Library Imports.\n",
    "import pandas as pd\n",
    "import matplotlib.pyplot as plt\n",
    "import numpy as np\n",
    "\n",
    "# Allows plots to appear directly in the notebook.\n",
    "%matplotlib inline\n",
    "\n",
    "from patsy import dmatrices\n",
    "from sklearn.linear_model import LinearRegression\n",
    "from sklearn.linear_model import LogisticRegression\n",
    "from sklearn.model_selection import train_test_split\n",
    "from sklearn import metrics\n",
    "from sklearn.model_selection import cross_validate\n",
    "from sklearn.model_selection import cross_val_score "
   ]
  },
  {
   "cell_type": "code",
   "execution_count": null,
   "metadata": {},
   "outputs": [
    {
     "data": {
      "text/html": [
       "<div>\n",
       "<style scoped>\n",
       "    .dataframe tbody tr th:only-of-type {\n",
       "        vertical-align: middle;\n",
       "    }\n",
       "\n",
       "    .dataframe tbody tr th {\n",
       "        vertical-align: top;\n",
       "    }\n",
       "\n",
       "    .dataframe thead th {\n",
       "        text-align: right;\n",
       "    }\n",
       "</style>\n",
       "<table border=\"1\" class=\"dataframe\">\n",
       "  <thead>\n",
       "    <tr style=\"text-align: right;\">\n",
       "      <th></th>\n",
       "      <th>ID</th>\n",
       "      <th>Size</th>\n",
       "      <th>Floor</th>\n",
       "      <th>BroadbandRate</th>\n",
       "      <th>EnergyRating</th>\n",
       "      <th>RentalPrice</th>\n",
       "    </tr>\n",
       "  </thead>\n",
       "  <tbody>\n",
       "    <tr>\n",
       "      <th>0</th>\n",
       "      <td>1</td>\n",
       "      <td>500</td>\n",
       "      <td>4</td>\n",
       "      <td>8</td>\n",
       "      <td>C</td>\n",
       "      <td>320</td>\n",
       "    </tr>\n",
       "    <tr>\n",
       "      <th>1</th>\n",
       "      <td>2</td>\n",
       "      <td>550</td>\n",
       "      <td>7</td>\n",
       "      <td>50</td>\n",
       "      <td>A</td>\n",
       "      <td>380</td>\n",
       "    </tr>\n",
       "    <tr>\n",
       "      <th>2</th>\n",
       "      <td>3</td>\n",
       "      <td>620</td>\n",
       "      <td>9</td>\n",
       "      <td>7</td>\n",
       "      <td>A</td>\n",
       "      <td>400</td>\n",
       "    </tr>\n",
       "    <tr>\n",
       "      <th>3</th>\n",
       "      <td>4</td>\n",
       "      <td>630</td>\n",
       "      <td>5</td>\n",
       "      <td>24</td>\n",
       "      <td>B</td>\n",
       "      <td>390</td>\n",
       "    </tr>\n",
       "    <tr>\n",
       "      <th>4</th>\n",
       "      <td>5</td>\n",
       "      <td>665</td>\n",
       "      <td>8</td>\n",
       "      <td>100</td>\n",
       "      <td>C</td>\n",
       "      <td>385</td>\n",
       "    </tr>\n",
       "    <tr>\n",
       "      <th>5</th>\n",
       "      <td>6</td>\n",
       "      <td>700</td>\n",
       "      <td>4</td>\n",
       "      <td>8</td>\n",
       "      <td>B</td>\n",
       "      <td>410</td>\n",
       "    </tr>\n",
       "    <tr>\n",
       "      <th>6</th>\n",
       "      <td>7</td>\n",
       "      <td>770</td>\n",
       "      <td>10</td>\n",
       "      <td>7</td>\n",
       "      <td>B</td>\n",
       "      <td>480</td>\n",
       "    </tr>\n",
       "    <tr>\n",
       "      <th>7</th>\n",
       "      <td>8</td>\n",
       "      <td>880</td>\n",
       "      <td>12</td>\n",
       "      <td>50</td>\n",
       "      <td>A</td>\n",
       "      <td>600</td>\n",
       "    </tr>\n",
       "    <tr>\n",
       "      <th>8</th>\n",
       "      <td>9</td>\n",
       "      <td>920</td>\n",
       "      <td>14</td>\n",
       "      <td>8</td>\n",
       "      <td>C</td>\n",
       "      <td>570</td>\n",
       "    </tr>\n",
       "    <tr>\n",
       "      <th>9</th>\n",
       "      <td>10</td>\n",
       "      <td>1000</td>\n",
       "      <td>9</td>\n",
       "      <td>24</td>\n",
       "      <td>B</td>\n",
       "      <td>620</td>\n",
       "    </tr>\n",
       "  </tbody>\n",
       "</table>\n",
       "</div>"
      ],
      "text/plain": [
       "   ID  Size  Floor  BroadbandRate EnergyRating  RentalPrice\n",
       "0   1   500      4              8            C          320\n",
       "1   2   550      7             50            A          380\n",
       "2   3   620      9              7            A          400\n",
       "3   4   630      5             24            B          390\n",
       "4   5   665      8            100            C          385\n",
       "5   6   700      4              8            B          410\n",
       "6   7   770     10              7            B          480\n",
       "7   8   880     12             50            A          600\n",
       "8   9   920     14              8            C          570\n",
       "9  10  1000      9             24            B          620"
      ]
     },
     "execution_count": 4,
     "metadata": {},
     "output_type": "execute_result"
    }
   ],
   "source": [
    "# Read csv file into a dataframe.\n",
    "df = pd.read_csv('Offices.csv')\n",
    "df.head(10)"
   ]
  },
  {
   "cell_type": "code",
   "execution_count": 5,
   "metadata": {},
   "outputs": [
    {
     "data": {
      "text/plain": [
       "np.float64(455.5)"
      ]
     },
     "execution_count": 5,
     "metadata": {},
     "output_type": "execute_result"
    }
   ],
   "source": [
    "# Print the average RentalPrice in our dataset.\n",
    "# We could use this as a very simple baseline prediction model.\n",
    "# A smarter prediction model should at least improve on this baseline model.\n",
    "df.RentalPrice.mean()"
   ]
  },
  {
   "cell_type": "code",
   "execution_count": 6,
   "metadata": {},
   "outputs": [
    {
     "data": {
      "text/html": [
       "<div>\n",
       "<style scoped>\n",
       "    .dataframe tbody tr th:only-of-type {\n",
       "        vertical-align: middle;\n",
       "    }\n",
       "\n",
       "    .dataframe tbody tr th {\n",
       "        vertical-align: top;\n",
       "    }\n",
       "\n",
       "    .dataframe thead th {\n",
       "        text-align: right;\n",
       "    }\n",
       "</style>\n",
       "<table border=\"1\" class=\"dataframe\">\n",
       "  <thead>\n",
       "    <tr style=\"text-align: right;\">\n",
       "      <th></th>\n",
       "      <th>PriceClass</th>\n",
       "    </tr>\n",
       "  </thead>\n",
       "  <tbody>\n",
       "    <tr>\n",
       "      <th>0</th>\n",
       "      <td>0.0</td>\n",
       "    </tr>\n",
       "    <tr>\n",
       "      <th>1</th>\n",
       "      <td>0.0</td>\n",
       "    </tr>\n",
       "    <tr>\n",
       "      <th>2</th>\n",
       "      <td>0.0</td>\n",
       "    </tr>\n",
       "    <tr>\n",
       "      <th>3</th>\n",
       "      <td>0.0</td>\n",
       "    </tr>\n",
       "    <tr>\n",
       "      <th>4</th>\n",
       "      <td>0.0</td>\n",
       "    </tr>\n",
       "    <tr>\n",
       "      <th>5</th>\n",
       "      <td>0.0</td>\n",
       "    </tr>\n",
       "    <tr>\n",
       "      <th>6</th>\n",
       "      <td>1.0</td>\n",
       "    </tr>\n",
       "    <tr>\n",
       "      <th>7</th>\n",
       "      <td>1.0</td>\n",
       "    </tr>\n",
       "    <tr>\n",
       "      <th>8</th>\n",
       "      <td>1.0</td>\n",
       "    </tr>\n",
       "    <tr>\n",
       "      <th>9</th>\n",
       "      <td>1.0</td>\n",
       "    </tr>\n",
       "  </tbody>\n",
       "</table>\n",
       "</div>"
      ],
      "text/plain": [
       "   PriceClass\n",
       "0         0.0\n",
       "1         0.0\n",
       "2         0.0\n",
       "3         0.0\n",
       "4         0.0\n",
       "5         0.0\n",
       "6         1.0\n",
       "7         1.0\n",
       "8         1.0\n",
       "9         1.0"
      ]
     },
     "execution_count": 6,
     "metadata": {},
     "output_type": "execute_result"
    }
   ],
   "source": [
    "# Transform the target feature RentalPrice into a categorical feature named PriceClass. \n",
    "# Map the prices higher than the average RentalPrice to category High, remaining prices to category Low.\n",
    "PriceClass = (df.RentalPrice > df.RentalPrice.mean()) * 1.0\n",
    "#PriceClass\n",
    "df_PriceClass = pd.DataFrame({'PriceClass': PriceClass})\n",
    "df_PriceClass"
   ]
  },
  {
   "cell_type": "code",
   "execution_count": 7,
   "metadata": {},
   "outputs": [
    {
     "data": {
      "text/html": [
       "<div>\n",
       "<style scoped>\n",
       "    .dataframe tbody tr th:only-of-type {\n",
       "        vertical-align: middle;\n",
       "    }\n",
       "\n",
       "    .dataframe tbody tr th {\n",
       "        vertical-align: top;\n",
       "    }\n",
       "\n",
       "    .dataframe thead th {\n",
       "        text-align: right;\n",
       "    }\n",
       "</style>\n",
       "<table border=\"1\" class=\"dataframe\">\n",
       "  <thead>\n",
       "    <tr style=\"text-align: right;\">\n",
       "      <th></th>\n",
       "      <th>ID</th>\n",
       "      <th>Size</th>\n",
       "      <th>Floor</th>\n",
       "      <th>BroadbandRate</th>\n",
       "      <th>EnergyRating</th>\n",
       "      <th>RentalPrice</th>\n",
       "      <th>PriceClass</th>\n",
       "    </tr>\n",
       "  </thead>\n",
       "  <tbody>\n",
       "    <tr>\n",
       "      <th>0</th>\n",
       "      <td>1</td>\n",
       "      <td>500</td>\n",
       "      <td>4</td>\n",
       "      <td>8</td>\n",
       "      <td>C</td>\n",
       "      <td>320</td>\n",
       "      <td>0.0</td>\n",
       "    </tr>\n",
       "    <tr>\n",
       "      <th>1</th>\n",
       "      <td>2</td>\n",
       "      <td>550</td>\n",
       "      <td>7</td>\n",
       "      <td>50</td>\n",
       "      <td>A</td>\n",
       "      <td>380</td>\n",
       "      <td>0.0</td>\n",
       "    </tr>\n",
       "    <tr>\n",
       "      <th>2</th>\n",
       "      <td>3</td>\n",
       "      <td>620</td>\n",
       "      <td>9</td>\n",
       "      <td>7</td>\n",
       "      <td>A</td>\n",
       "      <td>400</td>\n",
       "      <td>0.0</td>\n",
       "    </tr>\n",
       "    <tr>\n",
       "      <th>3</th>\n",
       "      <td>4</td>\n",
       "      <td>630</td>\n",
       "      <td>5</td>\n",
       "      <td>24</td>\n",
       "      <td>B</td>\n",
       "      <td>390</td>\n",
       "      <td>0.0</td>\n",
       "    </tr>\n",
       "    <tr>\n",
       "      <th>4</th>\n",
       "      <td>5</td>\n",
       "      <td>665</td>\n",
       "      <td>8</td>\n",
       "      <td>100</td>\n",
       "      <td>C</td>\n",
       "      <td>385</td>\n",
       "      <td>0.0</td>\n",
       "    </tr>\n",
       "    <tr>\n",
       "      <th>5</th>\n",
       "      <td>6</td>\n",
       "      <td>700</td>\n",
       "      <td>4</td>\n",
       "      <td>8</td>\n",
       "      <td>B</td>\n",
       "      <td>410</td>\n",
       "      <td>0.0</td>\n",
       "    </tr>\n",
       "    <tr>\n",
       "      <th>6</th>\n",
       "      <td>7</td>\n",
       "      <td>770</td>\n",
       "      <td>10</td>\n",
       "      <td>7</td>\n",
       "      <td>B</td>\n",
       "      <td>480</td>\n",
       "      <td>1.0</td>\n",
       "    </tr>\n",
       "    <tr>\n",
       "      <th>7</th>\n",
       "      <td>8</td>\n",
       "      <td>880</td>\n",
       "      <td>12</td>\n",
       "      <td>50</td>\n",
       "      <td>A</td>\n",
       "      <td>600</td>\n",
       "      <td>1.0</td>\n",
       "    </tr>\n",
       "    <tr>\n",
       "      <th>8</th>\n",
       "      <td>9</td>\n",
       "      <td>920</td>\n",
       "      <td>14</td>\n",
       "      <td>8</td>\n",
       "      <td>C</td>\n",
       "      <td>570</td>\n",
       "      <td>1.0</td>\n",
       "    </tr>\n",
       "    <tr>\n",
       "      <th>9</th>\n",
       "      <td>10</td>\n",
       "      <td>1000</td>\n",
       "      <td>9</td>\n",
       "      <td>24</td>\n",
       "      <td>B</td>\n",
       "      <td>620</td>\n",
       "      <td>1.0</td>\n",
       "    </tr>\n",
       "  </tbody>\n",
       "</table>\n",
       "</div>"
      ],
      "text/plain": [
       "   ID  Size  Floor  BroadbandRate EnergyRating  RentalPrice  PriceClass\n",
       "0   1   500      4              8            C          320         0.0\n",
       "1   2   550      7             50            A          380         0.0\n",
       "2   3   620      9              7            A          400         0.0\n",
       "3   4   630      5             24            B          390         0.0\n",
       "4   5   665      8            100            C          385         0.0\n",
       "5   6   700      4              8            B          410         0.0\n",
       "6   7   770     10              7            B          480         1.0\n",
       "7   8   880     12             50            A          600         1.0\n",
       "8   9   920     14              8            C          570         1.0\n",
       "9  10  1000      9             24            B          620         1.0"
      ]
     },
     "execution_count": 7,
     "metadata": {},
     "output_type": "execute_result"
    }
   ],
   "source": [
    "# Crate a new dataframe where we add column PriceClass to the original dataframe with 10 offices.\n",
    "df_classif = pd.concat([df, df_PriceClass], axis = 1)\n",
    "df_classif"
   ]
  },
  {
   "cell_type": "code",
   "execution_count": 8,
   "metadata": {},
   "outputs": [
    {
     "data": {
      "text/html": [
       "<div>\n",
       "<style scoped>\n",
       "    .dataframe tbody tr th:only-of-type {\n",
       "        vertical-align: middle;\n",
       "    }\n",
       "\n",
       "    .dataframe tbody tr th {\n",
       "        vertical-align: top;\n",
       "    }\n",
       "\n",
       "    .dataframe thead th {\n",
       "        text-align: right;\n",
       "    }\n",
       "</style>\n",
       "<table border=\"1\" class=\"dataframe\">\n",
       "  <thead>\n",
       "    <tr style=\"text-align: right;\">\n",
       "      <th></th>\n",
       "      <th>ID</th>\n",
       "      <th>Size</th>\n",
       "      <th>Floor</th>\n",
       "      <th>BroadbandRate</th>\n",
       "      <th>EnergyRating</th>\n",
       "      <th>PriceClass</th>\n",
       "    </tr>\n",
       "  </thead>\n",
       "  <tbody>\n",
       "    <tr>\n",
       "      <th>0</th>\n",
       "      <td>1</td>\n",
       "      <td>500</td>\n",
       "      <td>4</td>\n",
       "      <td>8</td>\n",
       "      <td>C</td>\n",
       "      <td>0.0</td>\n",
       "    </tr>\n",
       "    <tr>\n",
       "      <th>1</th>\n",
       "      <td>2</td>\n",
       "      <td>550</td>\n",
       "      <td>7</td>\n",
       "      <td>50</td>\n",
       "      <td>A</td>\n",
       "      <td>0.0</td>\n",
       "    </tr>\n",
       "    <tr>\n",
       "      <th>2</th>\n",
       "      <td>3</td>\n",
       "      <td>620</td>\n",
       "      <td>9</td>\n",
       "      <td>7</td>\n",
       "      <td>A</td>\n",
       "      <td>0.0</td>\n",
       "    </tr>\n",
       "    <tr>\n",
       "      <th>3</th>\n",
       "      <td>4</td>\n",
       "      <td>630</td>\n",
       "      <td>5</td>\n",
       "      <td>24</td>\n",
       "      <td>B</td>\n",
       "      <td>0.0</td>\n",
       "    </tr>\n",
       "    <tr>\n",
       "      <th>4</th>\n",
       "      <td>5</td>\n",
       "      <td>665</td>\n",
       "      <td>8</td>\n",
       "      <td>100</td>\n",
       "      <td>C</td>\n",
       "      <td>0.0</td>\n",
       "    </tr>\n",
       "    <tr>\n",
       "      <th>5</th>\n",
       "      <td>6</td>\n",
       "      <td>700</td>\n",
       "      <td>4</td>\n",
       "      <td>8</td>\n",
       "      <td>B</td>\n",
       "      <td>0.0</td>\n",
       "    </tr>\n",
       "    <tr>\n",
       "      <th>6</th>\n",
       "      <td>7</td>\n",
       "      <td>770</td>\n",
       "      <td>10</td>\n",
       "      <td>7</td>\n",
       "      <td>B</td>\n",
       "      <td>1.0</td>\n",
       "    </tr>\n",
       "    <tr>\n",
       "      <th>7</th>\n",
       "      <td>8</td>\n",
       "      <td>880</td>\n",
       "      <td>12</td>\n",
       "      <td>50</td>\n",
       "      <td>A</td>\n",
       "      <td>1.0</td>\n",
       "    </tr>\n",
       "    <tr>\n",
       "      <th>8</th>\n",
       "      <td>9</td>\n",
       "      <td>920</td>\n",
       "      <td>14</td>\n",
       "      <td>8</td>\n",
       "      <td>C</td>\n",
       "      <td>1.0</td>\n",
       "    </tr>\n",
       "    <tr>\n",
       "      <th>9</th>\n",
       "      <td>10</td>\n",
       "      <td>1000</td>\n",
       "      <td>9</td>\n",
       "      <td>24</td>\n",
       "      <td>B</td>\n",
       "      <td>1.0</td>\n",
       "    </tr>\n",
       "  </tbody>\n",
       "</table>\n",
       "</div>"
      ],
      "text/plain": [
       "   ID  Size  Floor  BroadbandRate EnergyRating  PriceClass\n",
       "0   1   500      4              8            C         0.0\n",
       "1   2   550      7             50            A         0.0\n",
       "2   3   620      9              7            A         0.0\n",
       "3   4   630      5             24            B         0.0\n",
       "4   5   665      8            100            C         0.0\n",
       "5   6   700      4              8            B         0.0\n",
       "6   7   770     10              7            B         1.0\n",
       "7   8   880     12             50            A         1.0\n",
       "8   9   920     14              8            C         1.0\n",
       "9  10  1000      9             24            B         1.0"
      ]
     },
     "execution_count": 8,
     "metadata": {},
     "output_type": "execute_result"
    }
   ],
   "source": [
    "# Drop the column RentalPrice from the df_classif dataframe.\n",
    "df_classif.drop('RentalPrice', axis=1, inplace=True)\n",
    "df_classif"
   ]
  },
  {
   "cell_type": "code",
   "execution_count": 9,
   "metadata": {},
   "outputs": [
    {
     "data": {
      "text/plain": [
       "ID                 int64\n",
       "Size               int64\n",
       "Floor              int64\n",
       "BroadbandRate      int64\n",
       "EnergyRating      object\n",
       "PriceClass       float64\n",
       "dtype: object"
      ]
     },
     "execution_count": 9,
     "metadata": {},
     "output_type": "execute_result"
    }
   ],
   "source": [
    "# Print the feature types in our dataset.\n",
    "df_classif.dtypes"
   ]
  },
  {
   "cell_type": "markdown",
   "metadata": {},
   "source": [
    "## Understanding data"
   ]
  },
  {
   "cell_type": "code",
   "execution_count": 10,
   "metadata": {},
   "outputs": [
    {
     "data": {
      "text/html": [
       "<div>\n",
       "<style scoped>\n",
       "    .dataframe tbody tr th:only-of-type {\n",
       "        vertical-align: middle;\n",
       "    }\n",
       "\n",
       "    .dataframe tbody tr th {\n",
       "        vertical-align: top;\n",
       "    }\n",
       "\n",
       "    .dataframe thead th {\n",
       "        text-align: right;\n",
       "    }\n",
       "</style>\n",
       "<table border=\"1\" class=\"dataframe\">\n",
       "  <thead>\n",
       "    <tr style=\"text-align: right;\">\n",
       "      <th></th>\n",
       "      <th>Size</th>\n",
       "      <th>Floor</th>\n",
       "      <th>BroadbandRate</th>\n",
       "      <th>PriceClass</th>\n",
       "    </tr>\n",
       "  </thead>\n",
       "  <tbody>\n",
       "    <tr>\n",
       "      <th>Size</th>\n",
       "      <td>1.000000</td>\n",
       "      <td>0.710863</td>\n",
       "      <td>-0.069117</td>\n",
       "      <td>0.881208</td>\n",
       "    </tr>\n",
       "    <tr>\n",
       "      <th>Floor</th>\n",
       "      <td>0.710863</td>\n",
       "      <td>1.000000</td>\n",
       "      <td>0.054897</td>\n",
       "      <td>0.789086</td>\n",
       "    </tr>\n",
       "    <tr>\n",
       "      <th>BroadbandRate</th>\n",
       "      <td>-0.069117</td>\n",
       "      <td>0.054897</td>\n",
       "      <td>1.000000</td>\n",
       "      <td>-0.180374</td>\n",
       "    </tr>\n",
       "    <tr>\n",
       "      <th>PriceClass</th>\n",
       "      <td>0.881208</td>\n",
       "      <td>0.789086</td>\n",
       "      <td>-0.180374</td>\n",
       "      <td>1.000000</td>\n",
       "    </tr>\n",
       "  </tbody>\n",
       "</table>\n",
       "</div>"
      ],
      "text/plain": [
       "                   Size     Floor  BroadbandRate  PriceClass\n",
       "Size           1.000000  0.710863      -0.069117    0.881208\n",
       "Floor          0.710863  1.000000       0.054897    0.789086\n",
       "BroadbandRate -0.069117  0.054897       1.000000   -0.180374\n",
       "PriceClass     0.881208  0.789086      -0.180374    1.000000"
      ]
     },
     "execution_count": 10,
     "metadata": {},
     "output_type": "execute_result"
    }
   ],
   "source": [
    "# Look at correlations for all the continuous features.\n",
    "df_classif[['Size', 'Floor', 'BroadbandRate', 'PriceClass']].corr()"
   ]
  },
  {
   "cell_type": "code",
   "execution_count": 11,
   "metadata": {},
   "outputs": [
    {
     "data": {
      "text/plain": [
       "np.float64(0.8812083996777103)"
      ]
     },
     "execution_count": 11,
     "metadata": {},
     "output_type": "execute_result"
    }
   ],
   "source": [
    "# The correlation for a given pair of features\n",
    "df_classif[['Size', 'PriceClass']].corr().values[0,1]"
   ]
  },
  {
   "cell_type": "code",
   "execution_count": 12,
   "metadata": {},
   "outputs": [
    {
     "data": {
      "text/plain": [
       "<Axes: xlabel='Size', ylabel='PriceClass'>"
      ]
     },
     "execution_count": 12,
     "metadata": {},
     "output_type": "execute_result"
    },
    {
     "data": {
      "image/png": "[encoded data removed]",
      "text/plain": [
       "<Figure size 640x480 with 1 Axes>"
      ]
     },
     "metadata": {},
     "output_type": "display_data"
    }
   ],
   "source": [
    "df_classif.plot(kind='scatter', x='Size', y='PriceClass', label=\"%.3f\" % df_classif[['Size', 'PriceClass']].corr().values[0,1])"
   ]
  },
  {
   "cell_type": "code",
   "execution_count": 13,
   "metadata": {},
   "outputs": [
    {
     "data": {
      "text/plain": [
       "<Axes: xlabel='BroadbandRate', ylabel='PriceClass'>"
      ]
     },
     "execution_count": 13,
     "metadata": {},
     "output_type": "execute_result"
    },
    {
     "data": {
      "image/png": "[encoded data removed]",
      "text/plain": [
       "<Figure size 1500x800 with 3 Axes>"
      ]
     },
     "metadata": {},
     "output_type": "display_data"
    }
   ],
   "source": [
    "# Scatterplots for each descriptive feature and target feature. \n",
    "# Show the correlation value in the plot. In classification, we look for \n",
    "# a threshold in the values of an input feature, indicative of the target class.\n",
    "fig, axs = plt.subplots(1, 3, sharey=True)\n",
    "df_classif.plot(kind='scatter', x='Size', y='PriceClass', label=\"%.3f\" % df_classif[['Size', 'PriceClass']].corr().values[0,1], ax=axs[0], figsize=(15, 8))\n",
    "df_classif.plot(kind='scatter', x='Floor', y='PriceClass', label=\"%.3f\" % df_classif[['Floor', 'PriceClass']].corr().values[0,1], ax=axs[1])\n",
    "df_classif.plot(kind='scatter', x='BroadbandRate', y='PriceClass', label=\"%.3f\" % df_classif[['BroadbandRate', 'PriceClass']].corr().values[0,1], ax=axs[2])"
   ]
  },
  {
   "cell_type": "markdown",
   "metadata": {},
   "source": [
    "# Linear regression with package <span style=\"color:red\">scikit-learn</span> (applied to a classification problem)\n",
    "\n",
    "## Simple linear regression (one descriptive feature)\n",
    "\n",
    "\n",
    "We first apply linear regression to the classification task and look at the outcome. The target feature is the probability of the Price being in class High, also written as p(PriceClass = 1 | Size).\n",
    "\n",
    "## Simple linear regression for classification\n",
    "### Training a model"
   ]
  },
  {
   "cell_type": "code",
   "execution_count": 14,
   "metadata": {},
   "outputs": [
    {
     "name": "stdout",
     "output_type": "stream",
     "text": [
      "\n",
      "Original dataframe:\n",
      "    ID  Size  Floor  BroadbandRate EnergyRating  RentalPrice\n",
      "0   1   500      4              8            C          320\n",
      "1   2   550      7             50            A          380\n",
      "2   3   620      9              7            A          400\n",
      "3   4   630      5             24            B          390\n",
      "4   5   665      8            100            C          385\n",
      "5   6   700      4              8            B          410\n",
      "6   7   770     10              7            B          480\n",
      "7   8   880     12             50            A          600\n",
      "8   9   920     14              8            C          570\n",
      "9  10  1000      9             24            B          620\n",
      "\n",
      "Descriptive features in X:\n",
      "    Size\n",
      "0   500\n",
      "1   550\n",
      "2   620\n",
      "3   630\n",
      "4   665\n",
      "5   700\n",
      "6   770\n",
      "7   880\n",
      "8   920\n",
      "9  1000\n",
      "\n",
      "Target feature in y:\n",
      " 0    0.0\n",
      "1    0.0\n",
      "2    0.0\n",
      "3    0.0\n",
      "4    0.0\n",
      "5    0.0\n",
      "6    1.0\n",
      "7    1.0\n",
      "8    1.0\n",
      "9    1.0\n",
      "Name: PriceClass, dtype: float64\n"
     ]
    }
   ],
   "source": [
    "# Prepare the descriptive features\n",
    "print(\"\\nOriginal dataframe:\\n\", df.head(10))\n",
    "cont_features = ['Size']\n",
    "#cont_features = ['Size', 'Floor', 'BroadbandRate']\n",
    "\n",
    "X = df_classif[cont_features]\n",
    "y = df_classif.PriceClass\n",
    "\n",
    "print(\"\\nDescriptive features in X:\\n\", X)\n",
    "print(\"\\nTarget feature in y:\\n\", y)"
   ]
  },
  {
   "cell_type": "markdown",
   "metadata": {},
   "source": [
    "### Training the model"
   ]
  },
  {
   "cell_type": "code",
   "execution_count": 15,
   "metadata": {},
   "outputs": [
    {
     "name": "stdout",
     "output_type": "stream",
     "text": [
      "Features: \n",
      " ['Size']\n",
      "\n",
      "Coeficients: \n",
      " [0.00275691]\n",
      "\n",
      "Intercept: \n",
      " -1.594620772626707\n"
     ]
    }
   ],
   "source": [
    "# Train, aka fit, a model using all continuous features.\n",
    "\n",
    "linreg = LinearRegression().fit(X[cont_features], y)\n",
    "\n",
    "# Print the weights learned for each feature.\n",
    "print(\"Features: \\n\", cont_features)\n",
    "print(\"\\nCoeficients: \\n\", linreg.coef_)\n",
    "print(\"\\nIntercept: \\n\", linreg.intercept_)"
   ]
  },
  {
   "cell_type": "markdown",
   "metadata": {},
   "source": [
    "The model learned by fitting a linear regression to the training set using feature Size and interpreting the categorical target feature as a numeric feature with only 2 values: 0 (Price is Low) or 1 (Price is High)\n",
    "\n",
    "$prob(PriceClass=1|Size) = -1.5946 + 0.0027 * Size$"
   ]
  },
  {
   "cell_type": "markdown",
   "metadata": {},
   "source": [
    "### Testing the model\n",
    "Using the trained model to predict the target feature prob(PriceClass=1), given the descriptive feature Size."
   ]
  },
  {
   "cell_type": "code",
   "execution_count": 65,
   "metadata": {},
   "outputs": [
    {
     "data": {
      "text/html": [
       "<div>\n",
       "<style scoped>\n",
       "    .dataframe tbody tr th:only-of-type {\n",
       "        vertical-align: middle;\n",
       "    }\n",
       "\n",
       "    .dataframe tbody tr th {\n",
       "        vertical-align: top;\n",
       "    }\n",
       "\n",
       "    .dataframe thead th {\n",
       "        text-align: right;\n",
       "    }\n",
       "</style>\n",
       "<table border=\"1\" class=\"dataframe\">\n",
       "  <thead>\n",
       "    <tr style=\"text-align: right;\">\n",
       "      <th></th>\n",
       "      <th>Size</th>\n",
       "    </tr>\n",
       "  </thead>\n",
       "  <tbody>\n",
       "    <tr>\n",
       "      <th>0</th>\n",
       "      <td>750</td>\n",
       "    </tr>\n",
       "  </tbody>\n",
       "</table>\n",
       "</div>"
      ],
      "text/plain": [
       "   Size\n",
       "0   750"
      ]
     },
     "execution_count": 65,
     "metadata": {},
     "output_type": "execute_result"
    }
   ],
   "source": [
    "# The model learned is: prob(PriceClass=1|Size) = -1.5946 + 0.0027 * Size\n",
    "# This means that for a unit increase in Size, we have a 0.0027 increase in the probability of the Price being High.\n",
    "# We can use the learned model to predict the PriceClass for a new office Size.\n",
    "\n",
    "# The Statsmodels predict() method expects a dataframe object.\n",
    "# Create a new dataframe with a new test example. \n",
    "X_new = pd.DataFrame({'Size': [750]})\n",
    "X_new.head()"
   ]
  },
  {
   "cell_type": "code",
   "execution_count": 66,
   "metadata": {},
   "outputs": [
    {
     "data": {
      "text/plain": [
       "array([0.47305798])"
      ]
     },
     "execution_count": 66,
     "metadata": {},
     "output_type": "execute_result"
    }
   ],
   "source": [
    "# Predict the prob(PriceClass=1|Size) for a new office with Size 750, using the trained model. \n",
    "linreg.predict(X_new)"
   ]
  },
  {
   "cell_type": "markdown",
   "metadata": {
    "collapsed": true,
    "jupyter": {
     "outputs_hidden": true
    }
   },
   "source": [
    "The linear regression model estimates a probability of 0.47 for the Price being in class High, given the Size 750.\n",
    "If we threshold at 0.5, this means the predicted class is class Low."
   ]
  },
  {
   "cell_type": "markdown",
   "metadata": {},
   "source": [
    "### Plotting the trained model"
   ]
  },
  {
   "cell_type": "code",
   "execution_count": 18,
   "metadata": {},
   "outputs": [
    {
     "data": {
      "text/html": [
       "<div>\n",
       "<style scoped>\n",
       "    .dataframe tbody tr th:only-of-type {\n",
       "        vertical-align: middle;\n",
       "    }\n",
       "\n",
       "    .dataframe tbody tr th {\n",
       "        vertical-align: top;\n",
       "    }\n",
       "\n",
       "    .dataframe thead th {\n",
       "        text-align: right;\n",
       "    }\n",
       "</style>\n",
       "<table border=\"1\" class=\"dataframe\">\n",
       "  <thead>\n",
       "    <tr style=\"text-align: right;\">\n",
       "      <th></th>\n",
       "      <th>Size</th>\n",
       "    </tr>\n",
       "  </thead>\n",
       "  <tbody>\n",
       "    <tr>\n",
       "      <th>0</th>\n",
       "      <td>500</td>\n",
       "    </tr>\n",
       "    <tr>\n",
       "      <th>1</th>\n",
       "      <td>1000</td>\n",
       "    </tr>\n",
       "  </tbody>\n",
       "</table>\n",
       "</div>"
      ],
      "text/plain": [
       "   Size\n",
       "0   500\n",
       "1  1000"
      ]
     },
     "execution_count": 18,
     "metadata": {},
     "output_type": "execute_result"
    }
   ],
   "source": [
    "# We can plot the regression line that was estimated from our trainign set.\n",
    "# First we use the trained model to predict prices for the min and max Size in our dataset.\n",
    "X_minmax = pd.DataFrame({'Size': [df_classif.Size.min(), df_classif.Size.max()]})\n",
    "X_minmax.head()\n"
   ]
  },
  {
   "cell_type": "code",
   "execution_count": 19,
   "metadata": {},
   "outputs": [
    {
     "data": {
      "text/plain": [
       "array([-0.21616827,  1.16228423])"
      ]
     },
     "execution_count": 19,
     "metadata": {},
     "output_type": "execute_result"
    }
   ],
   "source": [
    "# Make predictions for the min and max Size values and store them.\n",
    "linreg_predicted_probs = linreg.predict(X_minmax)\n",
    "linreg_predicted_probs"
   ]
  },
  {
   "cell_type": "code",
   "execution_count": 20,
   "metadata": {},
   "outputs": [
    {
     "data": {
      "text/plain": [
       "array([0.5, 0.5, 0.5, 0.5, 0.5, 0.5, 0.5, 0.5, 0.5, 0.5])"
      ]
     },
     "execution_count": 20,
     "metadata": {},
     "output_type": "execute_result"
    }
   ],
   "source": [
    "threshold_line = np.ones(10) * 0.5\n",
    "threshold_line"
   ]
  },
  {
   "cell_type": "code",
   "execution_count": 21,
   "metadata": {},
   "outputs": [
    {
     "data": {
      "text/plain": [
       "[<matplotlib.lines.Line2D at 0x25856986f10>]"
      ]
     },
     "execution_count": 21,
     "metadata": {},
     "output_type": "execute_result"
    },
    {
     "data": {
      "image/png": "[encoded data removed]",
      "text/plain": [
       "<Figure size 640x480 with 1 Axes>"
      ]
     },
     "metadata": {},
     "output_type": "display_data"
    }
   ],
   "source": [
    "# First, plot the observed data\n",
    "df_classif.plot(kind='scatter', x='Size', y='PriceClass')\n",
    "\n",
    "# Plot the threshold line at 0.5 in blue.\n",
    "plt.plot(df_classif.Size, threshold_line, c='blue', linestyle='dashed')\n",
    "\n",
    "# Next, plot the regression line, in red. The liear regression estimates are interpreted as probabilities.\n",
    "plt.plot(X_minmax, linreg_predicted_probs, c='red', linewidth=2)"
   ]
  },
  {
   "cell_type": "code",
   "execution_count": 22,
   "metadata": {},
   "outputs": [
    {
     "data": {
      "text/plain": [
       "array([0., 1.])"
      ]
     },
     "execution_count": 22,
     "metadata": {},
     "output_type": "execute_result"
    }
   ],
   "source": [
    "# Threshod the predicted probs for the min and max Size values and store them.\n",
    "linreg_predicted_class_Xminmax = (linreg.predict(X_minmax) >= 0.5) * 1.0\n",
    "linreg_predicted_class_Xminmax"
   ]
  },
  {
   "cell_type": "code",
   "execution_count": 23,
   "metadata": {},
   "outputs": [
    {
     "data": {
      "text/plain": [
       "array([0., 0., 0., 0., 0., 0., 1., 1., 1., 1.])"
      ]
     },
     "execution_count": 23,
     "metadata": {},
     "output_type": "execute_result"
    }
   ],
   "source": [
    "# Threshod the predicted probs for all the 10 examples and store them.\n",
    "linreg_predicted_class = (linreg.predict(X[cont_features]) >= 0.5) * 1.0\n",
    "linreg_predicted_class"
   ]
  },
  {
   "cell_type": "code",
   "execution_count": 24,
   "metadata": {},
   "outputs": [
    {
     "data": {
      "text/plain": [
       "[<matplotlib.lines.Line2D at 0x25858b54ed0>]"
      ]
     },
     "execution_count": 24,
     "metadata": {},
     "output_type": "execute_result"
    },
    {
     "data": {
      "image/png": "[encoded data removed]",
      "text/plain": [
       "<Figure size 640x480 with 1 Axes>"
      ]
     },
     "metadata": {},
     "output_type": "display_data"
    }
   ],
   "source": [
    "# First, plot the observed data\n",
    "df_classif.plot(kind='scatter', x='Size', y='PriceClass')\n",
    "\n",
    "# Plot the threshold line in blue.\n",
    "#plt.plot(df_classif.Size, threshold_line, c='blue', linestyle='dashed')\n",
    "\n",
    "# Plot the linear regression class estimation, in red.\n",
    "plt.plot(df_classif.Size, linreg_predicted_class, c='red', linewidth=2)"
   ]
  },
  {
   "cell_type": "markdown",
   "metadata": {},
   "source": [
    "# Logistic Regression for Classification using package <span style=\"color:red\">scikit-learn</span>\n",
    "## Training a model for predicting PriceClass using feature Size\n"
   ]
  },
  {
   "cell_type": "code",
   "execution_count": 25,
   "metadata": {},
   "outputs": [
    {
     "name": "stdout",
     "output_type": "stream",
     "text": [
      "Features: \n",
      " ['Size']\n",
      "\n",
      "Coeficients: \n",
      " [[0.17172472]]\n",
      "\n",
      "Intercept: \n",
      " [-126.21889894]\n"
     ]
    }
   ],
   "source": [
    "# Train, aka fit, a logistic regression model using all continuous features.\n",
    "\n",
    "logreg = LogisticRegression().fit(X[cont_features], y)\n",
    "\n",
    "# Print the weights learned for each feature.\n",
    "print(\"Features: \\n\", cont_features)\n",
    "print(\"\\nCoeficients: \\n\", logreg.coef_)\n",
    "print(\"\\nIntercept: \\n\", logreg.intercept_)"
   ]
  },
  {
   "cell_type": "markdown",
   "metadata": {},
   "source": [
    "The estimated logistic regression model is $prob(PriceClass=1|Size)=\\frac{1}{1 +e ^ -({-126.21889894 + 0.17172472 * Size})}$"
   ]
  },
  {
   "cell_type": "markdown",
   "metadata": {},
   "source": [
    "## Testing the model"
   ]
  },
  {
   "cell_type": "code",
   "execution_count": 26,
   "metadata": {},
   "outputs": [
    {
     "data": {
      "text/html": [
       "<div>\n",
       "<style scoped>\n",
       "    .dataframe tbody tr th:only-of-type {\n",
       "        vertical-align: middle;\n",
       "    }\n",
       "\n",
       "    .dataframe tbody tr th {\n",
       "        vertical-align: top;\n",
       "    }\n",
       "\n",
       "    .dataframe thead th {\n",
       "        text-align: right;\n",
       "    }\n",
       "</style>\n",
       "<table border=\"1\" class=\"dataframe\">\n",
       "  <thead>\n",
       "    <tr style=\"text-align: right;\">\n",
       "      <th></th>\n",
       "      <th>Size</th>\n",
       "    </tr>\n",
       "  </thead>\n",
       "  <tbody>\n",
       "    <tr>\n",
       "      <th>0</th>\n",
       "      <td>750</td>\n",
       "    </tr>\n",
       "  </tbody>\n",
       "</table>\n",
       "</div>"
      ],
      "text/plain": [
       "   Size\n",
       "0   750"
      ]
     },
     "execution_count": 26,
     "metadata": {},
     "output_type": "execute_result"
    }
   ],
   "source": [
    "X_new"
   ]
  },
  {
   "cell_type": "markdown",
   "metadata": {},
   "source": [
    "The logistic regression model estimates a probability of 0.92 for the Price being in class High, given the Size of 750. This can also be written as \n",
    "\n",
    "$prob(Price=1|Size=750)=\\frac{1}{1 +e ^ -({-126.21889894 + 0.17172472 * Size})} = \\frac{1}{1+e ^ -{2.57464106}} = 0.92921161$."
   ]
  },
  {
   "cell_type": "code",
   "execution_count": 27,
   "metadata": {},
   "outputs": [
    {
     "data": {
      "text/plain": [
       "array([[0.07078839, 0.92921161]])"
      ]
     },
     "execution_count": 27,
     "metadata": {},
     "output_type": "execute_result"
    }
   ],
   "source": [
    "# Predict the prob(Price=1|Size) for a new office with Size 750, using the trained model. \n",
    "# Print the predicted probabilities for each class. The first column is \n",
    "# the predicted probability for class Low, the second column for class High.\n",
    "logreg.predict_proba(X_new)"
   ]
  },
  {
   "cell_type": "code",
   "execution_count": 28,
   "metadata": {},
   "outputs": [
    {
     "data": {
      "text/plain": [
       "array([1.])"
      ]
     },
     "execution_count": 28,
     "metadata": {},
     "output_type": "execute_result"
    }
   ],
   "source": [
    "# Print the predicted class based on thresholding the probability for class High at 0.5.\n",
    "logreg.predict(X_new)"
   ]
  },
  {
   "cell_type": "markdown",
   "metadata": {},
   "source": [
    "## Ploting the trained model"
   ]
  },
  {
   "cell_type": "code",
   "execution_count": 29,
   "metadata": {},
   "outputs": [
    {
     "name": "stdout",
     "output_type": "stream",
     "text": [
      "Toy data frame X_minmax:\n",
      "    Size\n",
      "0   500\n",
      "1  1000\n",
      "\n",
      "Predicted probs for both classes on X_minmax:\n",
      " [[1.00000000e+00 2.97425318e-18]\n",
      " [0.00000000e+00 1.00000000e+00]]\n",
      "\n",
      "Predicted probs only for positive class on on X_minmax: [2.97425318e-18 1.00000000e+00]\n",
      "\n",
      "Predicted classes: [0. 1.]\n"
     ]
    }
   ],
   "source": [
    "print(\"Toy data frame X_minmax:\\n\", X_minmax)\n",
    "\n",
    "# Make predictions for all the points in the training data and store them.\n",
    "logreg_predictions = logreg.predict(X_minmax)\n",
    "print(\"\\nPredicted probs for both classes on X_minmax:\\n\", logreg.predict_proba(X_minmax))\n",
    "print(\"\\nPredicted probs only for positive class on on X_minmax:\", logreg.predict_proba(X_minmax)[:,1])\n",
    "print(\"\\nPredicted classes:\", logreg_predictions)"
   ]
  },
  {
   "cell_type": "code",
   "execution_count": 30,
   "metadata": {},
   "outputs": [
    {
     "name": "stdout",
     "output_type": "stream",
     "text": [
      "\n",
      "Predicted probs on full training data:\n",
      " [[1.00000000e+00 2.97425318e-18]\n",
      " [1.00000000e+00 1.59342953e-14]\n",
      " [9.99999997e-01 2.64770597e-09]\n",
      " [9.99999985e-01 1.47455418e-08]\n",
      " [9.99993989e-01 6.01072113e-06]\n",
      " [9.97555811e-01 2.44418931e-03]\n",
      " [2.45019166e-03 9.97549808e-01]\n",
      " [1.53661528e-11 1.00000000e+00]\n",
      " [1.59872116e-14 1.00000000e+00]\n",
      " [0.00000000e+00 1.00000000e+00]]\n",
      "\n",
      "Predicted class on full training data:\n",
      " [0. 0. 0. 0. 0. 0. 1. 1. 1. 1.]\n"
     ]
    },
    {
     "data": {
      "text/plain": [
       "[<matplotlib.lines.Line2D at 0x25858c43ad0>]"
      ]
     },
     "execution_count": 30,
     "metadata": {},
     "output_type": "execute_result"
    },
    {
     "data": {
      "image/png": "[encoded data removed]",
      "text/plain": [
       "<Figure size 640x480 with 1 Axes>"
      ]
     },
     "metadata": {},
     "output_type": "display_data"
    }
   ],
   "source": [
    "# First, plot the observed data\n",
    "df_classif.plot(kind='scatter', x='Size', y='PriceClass')\n",
    "\n",
    "print(\"\\nPredicted probs on full training data:\\n\", logreg.predict_proba(X[cont_features]))\n",
    "print(\"\\nPredicted class on full training data:\\n\", logreg.predict(X[cont_features]))\n",
    "\n",
    "# Plot the logistic regression class estimation, in red.\n",
    "#plt.plot(df_classif.Size, threshold_line, c='blue', linestyle='dashed')\n",
    "\n",
    "# Plot the logistic regression class estimation, in red.\n",
    "plt.plot(df_classif.Size, logreg.predict(X[cont_features]), c='red', linewidth=2)\n",
    "\n"
   ]
  },
  {
   "cell_type": "markdown",
   "metadata": {},
   "source": [
    "## Comparing Linear Regression to Logistic Regression trained models\n",
    "\n",
    "Model learned using linear regression:\n",
    "\n",
    "$p(PriceClass=1|Size) = -1.594621 + 0.002757 * Size$\n",
    "\n",
    "Predicting on new test example with Size=750:\n",
    "\n",
    "$p(PriceClass=1|Size=750) = -1.594621 + 0.002757 * 750 = 0.473129$\n",
    "\n",
    "\n",
    "Model learned using logistic regression:\n",
    "\n",
    "$prob(PriceClass=1|Size)=\\frac{1}{1 +e ^ -({-126.21889894 + 0.17172472 * Size})}$\n",
    "\n",
    "Predicting on new test example with Size=750:\n",
    "\n",
    "$prob(Price=1|Size=750)=\\frac{1}{1 +e ^ -({-126.21889894 + 0.17172472 * 750})} = \\frac{1}{1+e ^ -{2.57464106}} = 0.92921161$.\n",
    "\n",
    "We see that the probability estimates for the two methods are quite different, linear regression estimates the probability of the Price being High at 0.4731 versus logistic regression 0.9292.\n",
    "\n"
   ]
  },
  {
   "cell_type": "code",
   "execution_count": 31,
   "metadata": {},
   "outputs": [
    {
     "name": "stdout",
     "output_type": "stream",
     "text": [
      "Linear regression prediction: 0.4731289999999997\n",
      "Logistic regression prediction:  0.9292115816344748\n"
     ]
    }
   ],
   "source": [
    "# Example of doing manual computations\n",
    "import math\n",
    "print(\"Linear regression prediction:\", -1.594621 + 0.002757 * 750)\n",
    "print(\"Logistic regression prediction: \", 1/(1+ math.e ** -(-126.21889894 + 0.17172472 * 750)))"
   ]
  },
  {
   "cell_type": "markdown",
   "metadata": {},
   "source": [
    "## Testing the model (using the model to make predictions)"
   ]
  },
  {
   "cell_type": "code",
   "execution_count": 32,
   "metadata": {},
   "outputs": [],
   "source": [
    "# Predicted probabilities for each example. \n",
    "# The output is a pair for each example, \n",
    "# The first component is the probability of the negative class (class 0).\n",
    "# The second component is the probability of the positive class (class 1).\n",
    "logreg_predicted_probs = logreg.predict_proba(X[cont_features])"
   ]
  },
  {
   "cell_type": "code",
   "execution_count": 33,
   "metadata": {},
   "outputs": [
    {
     "name": "stdout",
     "output_type": "stream",
     "text": [
      "Predictions:  [0. 0. 0. 0. 0. 0. 1. 1. 1. 1.]\n"
     ]
    }
   ],
   "source": [
    "# Predict using the trained model, on in-sample data (same sample used for training and test)\n",
    "logreg_predicted_class = logreg.predict(X[cont_features])\n",
    "print(\"Predictions: \", logreg_predicted_class)"
   ]
  },
  {
   "cell_type": "code",
   "execution_count": 34,
   "metadata": {},
   "outputs": [
    {
     "data": {
      "text/plain": [
       "1.0"
      ]
     },
     "execution_count": 34,
     "metadata": {},
     "output_type": "execute_result"
    }
   ],
   "source": [
    "# Check the accuracy on the training set. \n",
    "# The accuracy is the ratio of correct predictions to total examples\n",
    "# In our case we have 10 examples and the predictions is correct on 9 of them.\n",
    "# Total accuracy is then 9/10 = 0.9 or 90% accuracy\n",
    "logreg.score(X[cont_features], y)"
   ]
  },
  {
   "cell_type": "markdown",
   "metadata": {},
   "source": [
    "## Multiple logistic regression (using more than one feature)\n",
    "### Training the model"
   ]
  },
  {
   "cell_type": "code",
   "execution_count": 35,
   "metadata": {},
   "outputs": [
    {
     "name": "stdout",
     "output_type": "stream",
     "text": [
      "\n",
      "Original dataframe:\n",
      "    ID  Size  Floor  BroadbandRate EnergyRating  RentalPrice\n",
      "0   1   500      4              8            C          320\n",
      "1   2   550      7             50            A          380\n",
      "2   3   620      9              7            A          400\n",
      "3   4   630      5             24            B          390\n",
      "4   5   665      8            100            C          385\n",
      "5   6   700      4              8            B          410\n",
      "6   7   770     10              7            B          480\n",
      "7   8   880     12             50            A          600\n",
      "8   9   920     14              8            C          570\n",
      "9  10  1000      9             24            B          620\n",
      "\n",
      "Descriptive features in X:\n",
      "    Size  Floor  BroadbandRate\n",
      "0   500      4              8\n",
      "1   550      7             50\n",
      "2   620      9              7\n",
      "3   630      5             24\n",
      "4   665      8            100\n",
      "5   700      4              8\n",
      "6   770     10              7\n",
      "7   880     12             50\n",
      "8   920     14              8\n",
      "9  1000      9             24\n",
      "\n",
      "Target feature in y:\n",
      " 0    0.0\n",
      "1    0.0\n",
      "2    0.0\n",
      "3    0.0\n",
      "4    0.0\n",
      "5    0.0\n",
      "6    1.0\n",
      "7    1.0\n",
      "8    1.0\n",
      "9    1.0\n",
      "Name: PriceClass, dtype: float64\n"
     ]
    }
   ],
   "source": [
    "# Prepare the descriptive features\n",
    "print(\"\\nOriginal dataframe:\\n\", df.head(10))\n",
    "#cont_features = ['Size']\n",
    "cont_features = ['Size', 'Floor', 'BroadbandRate']\n",
    "\n",
    "X = df_classif[cont_features]\n",
    "y = df_classif.PriceClass\n",
    "\n",
    "print(\"\\nDescriptive features in X:\\n\", X)\n",
    "print(\"\\nTarget feature in y:\\n\", y)"
   ]
  },
  {
   "cell_type": "code",
   "execution_count": 36,
   "metadata": {},
   "outputs": [
    {
     "name": "stdout",
     "output_type": "stream",
     "text": [
      "Features: \n",
      " ['Size', 'Floor', 'BroadbandRate']\n",
      "Coeficients: \n",
      " [[ 0.17060582  0.01459199 -0.00289444]]\n",
      "\n",
      "Intercept: \n",
      " [-125.47669839]\n"
     ]
    }
   ],
   "source": [
    "# Use more features for training\n",
    "# Train aka fit, a model using all continuous features.\n",
    "multiple_logreg = LogisticRegression().fit(X[cont_features], y)\n",
    "\n",
    "# Print the weights learned for each feature.\n",
    "print(\"Features: \\n\", cont_features)\n",
    "print(\"Coeficients: \\n\", multiple_logreg.coef_)\n",
    "print(\"\\nIntercept: \\n\", multiple_logreg.intercept_)"
   ]
  },
  {
   "cell_type": "markdown",
   "metadata": {},
   "source": [
    "## Testing the multiple logreg model (using the model to make predictions)"
   ]
  },
  {
   "cell_type": "code",
   "execution_count": 37,
   "metadata": {},
   "outputs": [],
   "source": [
    "# Predicted probabilities for each example. \n",
    "# The output is a pair for each example, \n",
    "# The first component is the probability of the negative class (class 0).\n",
    "# The second component is the probability of the positive class (class 1).\n",
    "multiple_logreg_predicted_probs = multiple_logreg.predict_proba(X[cont_features])"
   ]
  },
  {
   "cell_type": "code",
   "execution_count": 38,
   "metadata": {},
   "outputs": [
    {
     "name": "stdout",
     "output_type": "stream",
     "text": [
      "Predictions:  [0. 0. 0. 0. 0. 0. 1. 1. 1. 1.]\n"
     ]
    }
   ],
   "source": [
    "# Predict using the trained model, on in-sample data (same sample used for training and test)\n",
    "multiple_logreg_predicted_class = multiple_logreg.predict(X[cont_features])\n",
    "print(\"Predictions: \", multiple_logreg_predicted_class)"
   ]
  },
  {
   "cell_type": "code",
   "execution_count": 39,
   "metadata": {},
   "outputs": [
    {
     "data": {
      "text/plain": [
       "1.0"
      ]
     },
     "execution_count": 39,
     "metadata": {},
     "output_type": "execute_result"
    }
   ],
   "source": [
    "# Check the accuracy on the training set. \n",
    "multiple_logreg.score(X[cont_features], y)"
   ]
  },
  {
   "cell_type": "markdown",
   "metadata": {},
   "source": [
    "## Classification Evaluation Metrics"
   ]
  },
  {
   "cell_type": "code",
   "execution_count": 40,
   "metadata": {},
   "outputs": [
    {
     "name": "stdout",
     "output_type": "stream",
     "text": [
      "\n",
      "Descriptive features in X:\n",
      "    Size  Floor  BroadbandRate\n",
      "0   500      4              8\n",
      "1   550      7             50\n",
      "2   620      9              7\n",
      "3   630      5             24\n",
      "4   665      8            100\n",
      "5   700      4              8\n",
      "6   770     10              7\n",
      "7   880     12             50\n",
      "8   920     14              8\n",
      "9  1000      9             24\n",
      "\n",
      "Target feature in y:\n",
      " 0    0.0\n",
      "1    0.0\n",
      "2    0.0\n",
      "3    0.0\n",
      "4    0.0\n",
      "5    0.0\n",
      "6    1.0\n",
      "7    1.0\n",
      "8    1.0\n",
      "9    1.0\n",
      "Name: PriceClass, dtype: float64\n"
     ]
    }
   ],
   "source": [
    "print(\"\\nDescriptive features in X:\\n\", X)\n",
    "print(\"\\nTarget feature in y:\\n\", y)"
   ]
  },
  {
   "cell_type": "code",
   "execution_count": 41,
   "metadata": {},
   "outputs": [
    {
     "name": "stdout",
     "output_type": "stream",
     "text": [
      "Accuracy:  1.0\n",
      "Confusion matrix: \n",
      " [[6 0]\n",
      " [0 4]]\n",
      "Classification report:\n",
      "                precision    recall  f1-score   support\n",
      "\n",
      "         0.0       1.00      1.00      1.00         6\n",
      "         1.0       1.00      1.00      1.00         4\n",
      "\n",
      "    accuracy                           1.00        10\n",
      "   macro avg       1.00      1.00      1.00        10\n",
      "weighted avg       1.00      1.00      1.00        10\n",
      "\n"
     ]
    }
   ],
   "source": [
    "# Some more evaluation metrics.\n",
    "print(\"Accuracy: \", metrics.accuracy_score(y, multiple_logreg_predicted_class))\n",
    "print(\"Confusion matrix: \\n\", metrics.confusion_matrix(y, multiple_logreg_predicted_class))\n",
    "print(\"Classification report:\\n \", metrics.classification_report(y, multiple_logreg_predicted_class))\n"
   ]
  },
  {
   "cell_type": "markdown",
   "metadata": {},
   "source": [
    "## Model evaluation on out-of-sample data (keep 70% examples for training and 30% for test)"
   ]
  },
  {
   "cell_type": "code",
   "execution_count": 42,
   "metadata": {},
   "outputs": [
    {
     "name": "stdout",
     "output_type": "stream",
     "text": [
      "   Size  Floor  BroadbandRate\n",
      "0   500      4              8\n",
      "1   550      7             50\n",
      "2   620      9              7\n",
      "3   630      5             24\n",
      "4   665      8            100\n",
      "5   700      4              8\n",
      "6   770     10              7\n",
      "7   880     12             50\n",
      "8   920     14              8\n",
      "9  1000      9             24\n",
      "0    0.0\n",
      "1    0.0\n",
      "2    0.0\n",
      "3    0.0\n",
      "4    0.0\n",
      "5    0.0\n",
      "6    1.0\n",
      "7    1.0\n",
      "8    1.0\n",
      "9    1.0\n",
      "Name: PriceClass, dtype: float64\n"
     ]
    }
   ],
   "source": [
    "print(X)\n",
    "print(y)"
   ]
  },
  {
   "cell_type": "code",
   "execution_count": 43,
   "metadata": {},
   "outputs": [
    {
     "name": "stdout",
     "output_type": "stream",
     "text": [
      "Training data:\n",
      "    Size  Floor  BroadbandRate  PriceClass\n",
      "5   700      4              8         0.0\n",
      "0   500      4              8         0.0\n",
      "2   620      9              7         0.0\n",
      "7   880     12             50         1.0\n",
      "1   550      7             50         0.0\n",
      "\n",
      "Test data:\n",
      "    Size  Floor  BroadbandRate  PriceClass\n",
      "9  1000      9             24         1.0\n",
      "4   665      8            100         0.0\n",
      "6   770     10              7         1.0\n",
      "3   630      5             24         0.0\n",
      "8   920     14              8         1.0\n"
     ]
    }
   ],
   "source": [
    "# Split the data into train and test sets\n",
    "# Take a third (random) data samples as test data, rest as training data\n",
    "# Note that this training set if very small and the model will not be very reliable due to this sample size problem.\n",
    "#X_train, X_test, y_train, y_test = train_test_split(X, y, test_size=0.3)\n",
    "# The random_state parameter allows us to fix the split so the result doesn't change in different runs of the code\n",
    "#X_train, X_test, y_train, y_test = train_test_split(X, y, test_size=0.3, random_state=0)\n",
    "X_train, X_test, y_train, y_test = train_test_split(X, y, test_size=0.5)\n",
    "\n",
    "\n",
    "print(\"Training data:\\n\", pd.concat([X_train, y_train], axis=1))\n",
    "print(\"\\nTest data:\\n\", pd.concat([X_test, y_test], axis=1))"
   ]
  },
  {
   "cell_type": "code",
   "execution_count": 44,
   "metadata": {},
   "outputs": [
    {
     "name": "stdout",
     "output_type": "stream",
     "text": [
      "Features: \n",
      " ['Size', 'Floor', 'BroadbandRate']\n",
      "\n",
      "Coeficients: \n",
      " [[0.08105625 0.00359688 0.01890004]]\n",
      "\n",
      "Intercept: \n",
      " [-64.61217932]\n"
     ]
    }
   ],
   "source": [
    "# Train on the training sample and test on the test sample.\n",
    "logreg_train = LogisticRegression().fit(X_train, y_train)\n",
    "# Print the weights learned for each feature.\n",
    "# Print the weights learned for each feature.\n",
    "print(\"Features: \\n\", cont_features)\n",
    "print(\"\\nCoeficients: \\n\", logreg_train.coef_)\n",
    "print(\"\\nIntercept: \\n\", logreg_train.intercept_)"
   ]
  },
  {
   "cell_type": "code",
   "execution_count": 45,
   "metadata": {},
   "outputs": [
    {
     "name": "stdout",
     "output_type": "stream",
     "text": [
      "[[4.43990615e-08 9.99999956e-01]\n",
      " [9.99847926e-01 1.52073978e-04]\n",
      " [8.83972091e-01 1.16027909e-01]\n",
      " [9.99997903e-01 2.09667858e-06]\n",
      " [3.86420476e-05 9.99961358e-01]]\n"
     ]
    }
   ],
   "source": [
    "# Estimated class probabilities on test set\n",
    "print(logreg_train.predict_proba(X_test))"
   ]
  },
  {
   "cell_type": "code",
   "execution_count": 46,
   "metadata": {},
   "outputs": [
    {
     "name": "stdout",
     "output_type": "stream",
     "text": [
      "[1. 0. 0. 0. 1.]\n"
     ]
    }
   ],
   "source": [
    "# Estimated classes  on test set\n",
    "y_predicted = logreg_train.predict(X_test)\n",
    "print(y_predicted)"
   ]
  },
  {
   "cell_type": "code",
   "execution_count": 47,
   "metadata": {},
   "outputs": [
    {
     "name": "stdout",
     "output_type": "stream",
     "text": [
      "Accuracy:  0.8\n",
      "Confusion matrix: \n",
      " [[2 0]\n",
      " [1 2]]\n",
      "Classification report:\n",
      "                precision    recall  f1-score   support\n",
      "\n",
      "         0.0       0.67      1.00      0.80         2\n",
      "         1.0       1.00      0.67      0.80         3\n",
      "\n",
      "    accuracy                           0.80         5\n",
      "   macro avg       0.83      0.83      0.80         5\n",
      "weighted avg       0.87      0.80      0.80         5\n",
      "\n"
     ]
    }
   ],
   "source": [
    "# Some more evaluation metrics.\n",
    "print(\"Accuracy: \", metrics.accuracy_score(y_test, y_predicted))\n",
    "print(\"Confusion matrix: \\n\", metrics.confusion_matrix(y_test, y_predicted))\n",
    "print(\"Classification report:\\n \", metrics.classification_report(y_test, y_predicted))"
   ]
  },
  {
   "cell_type": "code",
   "execution_count": 48,
   "metadata": {},
   "outputs": [
    {
     "name": "stdout",
     "output_type": "stream",
     "text": [
      "0.8\n"
     ]
    }
   ],
   "source": [
    "print(metrics.accuracy_score(y_test, y_predicted))"
   ]
  },
  {
   "cell_type": "code",
   "execution_count": 49,
   "metadata": {},
   "outputs": [
    {
     "name": "stdout",
     "output_type": "stream",
     "text": [
      "0.8\n"
     ]
    }
   ],
   "source": [
    "print(metrics.f1_score(y_test, y_predicted))"
   ]
  },
  {
   "cell_type": "markdown",
   "metadata": {},
   "source": [
    "## Model evaluation using cross-validation (several out-of-sample datasets with a 70% train and 30% test split)"
   ]
  },
  {
   "cell_type": "code",
   "execution_count": 50,
   "metadata": {},
   "outputs": [
    {
     "data": {
      "text/html": [
       "<div>\n",
       "<style scoped>\n",
       "    .dataframe tbody tr th:only-of-type {\n",
       "        vertical-align: middle;\n",
       "    }\n",
       "\n",
       "    .dataframe tbody tr th {\n",
       "        vertical-align: top;\n",
       "    }\n",
       "\n",
       "    .dataframe thead th {\n",
       "        text-align: right;\n",
       "    }\n",
       "</style>\n",
       "<table border=\"1\" class=\"dataframe\">\n",
       "  <thead>\n",
       "    <tr style=\"text-align: right;\">\n",
       "      <th></th>\n",
       "      <th>Size</th>\n",
       "      <th>Floor</th>\n",
       "      <th>BroadbandRate</th>\n",
       "    </tr>\n",
       "  </thead>\n",
       "  <tbody>\n",
       "    <tr>\n",
       "      <th>0</th>\n",
       "      <td>500</td>\n",
       "      <td>4</td>\n",
       "      <td>8</td>\n",
       "    </tr>\n",
       "    <tr>\n",
       "      <th>1</th>\n",
       "      <td>550</td>\n",
       "      <td>7</td>\n",
       "      <td>50</td>\n",
       "    </tr>\n",
       "    <tr>\n",
       "      <th>2</th>\n",
       "      <td>620</td>\n",
       "      <td>9</td>\n",
       "      <td>7</td>\n",
       "    </tr>\n",
       "    <tr>\n",
       "      <th>3</th>\n",
       "      <td>630</td>\n",
       "      <td>5</td>\n",
       "      <td>24</td>\n",
       "    </tr>\n",
       "    <tr>\n",
       "      <th>4</th>\n",
       "      <td>665</td>\n",
       "      <td>8</td>\n",
       "      <td>100</td>\n",
       "    </tr>\n",
       "    <tr>\n",
       "      <th>5</th>\n",
       "      <td>700</td>\n",
       "      <td>4</td>\n",
       "      <td>8</td>\n",
       "    </tr>\n",
       "    <tr>\n",
       "      <th>6</th>\n",
       "      <td>770</td>\n",
       "      <td>10</td>\n",
       "      <td>7</td>\n",
       "    </tr>\n",
       "    <tr>\n",
       "      <th>7</th>\n",
       "      <td>880</td>\n",
       "      <td>12</td>\n",
       "      <td>50</td>\n",
       "    </tr>\n",
       "    <tr>\n",
       "      <th>8</th>\n",
       "      <td>920</td>\n",
       "      <td>14</td>\n",
       "      <td>8</td>\n",
       "    </tr>\n",
       "    <tr>\n",
       "      <th>9</th>\n",
       "      <td>1000</td>\n",
       "      <td>9</td>\n",
       "      <td>24</td>\n",
       "    </tr>\n",
       "  </tbody>\n",
       "</table>\n",
       "</div>"
      ],
      "text/plain": [
       "   Size  Floor  BroadbandRate\n",
       "0   500      4              8\n",
       "1   550      7             50\n",
       "2   620      9              7\n",
       "3   630      5             24\n",
       "4   665      8            100\n",
       "5   700      4              8\n",
       "6   770     10              7\n",
       "7   880     12             50\n",
       "8   920     14              8\n",
       "9  1000      9             24"
      ]
     },
     "execution_count": 50,
     "metadata": {},
     "output_type": "execute_result"
    }
   ],
   "source": [
    "X"
   ]
  },
  {
   "cell_type": "code",
   "execution_count": 51,
   "metadata": {},
   "outputs": [
    {
     "data": {
      "text/plain": [
       "0    0.0\n",
       "1    0.0\n",
       "2    0.0\n",
       "3    0.0\n",
       "4    0.0\n",
       "5    0.0\n",
       "6    1.0\n",
       "7    1.0\n",
       "8    1.0\n",
       "9    1.0\n",
       "Name: PriceClass, dtype: float64"
      ]
     },
     "execution_count": 51,
     "metadata": {},
     "output_type": "execute_result"
    }
   ],
   "source": [
    "y"
   ]
  },
  {
   "cell_type": "code",
   "execution_count": 52,
   "metadata": {},
   "outputs": [],
   "source": [
    "#?cross_val_score"
   ]
  },
  {
   "cell_type": "code",
   "execution_count": 53,
   "metadata": {},
   "outputs": [
    {
     "name": "stdout",
     "output_type": "stream",
     "text": [
      "\n",
      "F1 CV scores: [0.66666667 1.         1.        ]\n",
      "\n",
      "F1 CV mean score: 0.8888888888888888\n",
      "\n",
      "F1 CV std score: 0.15713484026367724\n"
     ]
    }
   ],
   "source": [
    "# Evaluate the model using 3-fold cross-validation.\n",
    "# Uses 2 thirds of data for training and the last third for testing. \n",
    "# This process is repeated 3 times. More details about cross-validation here: http://www-bcf.usc.edu/~gareth/ISL/\n",
    "scores = cross_val_score(LogisticRegression(), X, y, scoring='f1', cv=3)\n",
    "print(\"\\nF1 CV scores:\", scores)\n",
    "print(\"\\nF1 CV mean score:\",scores.mean())\n",
    "print(\"\\nF1 CV std score:\",scores.std())"
   ]
  },
  {
   "cell_type": "code",
   "execution_count": 54,
   "metadata": {},
   "outputs": [
    {
     "name": "stdout",
     "output_type": "stream",
     "text": [
      "\n",
      "Acc CV scores: [0.75 1.   1.  ]\n",
      "\n",
      "Acc CV mean score: 0.9166666666666666\n",
      "\n",
      "Acc CV std score: 0.11785113019775792\n"
     ]
    }
   ],
   "source": [
    "scores = cross_val_score(LogisticRegression(), X, y, scoring='accuracy', cv=3)\n",
    "print(\"\\nAcc CV scores:\", scores)\n",
    "print(\"\\nAcc CV mean score:\", scores.mean())\n",
    "print(\"\\nAcc CV std score:\", scores.std())"
   ]
  },
  {
   "cell_type": "code",
   "execution_count": null,
   "metadata": {},
   "outputs": [],
   "source": []
  },
  {
   "cell_type": "code",
   "execution_count": null,
   "metadata": {},
   "outputs": [],
   "source": []
  }
 ],
 "metadata": {
  "kernelspec": {
   "display_name": "comp47350py311",
   "language": "python",
   "name": "python3"
  },
  "language_info": {
   "codemirror_mode": {
    "name": "ipython",
    "version": 3
   },
   "file_extension": ".py",
   "mimetype": "text/x-python",
   "name": "python",
   "nbconvert_exporter": "python",
   "pygments_lexer": "ipython3",
   "version": "3.11.11"
  }
 },
 "nbformat": 4,
 "nbformat_minor": 4
}
