{
 "cells": [
  {
   "cell_type": "code",
   "execution_count": 4,
   "metadata": {},
   "outputs": [
    {
     "name": "stdout",
     "output_type": "stream",
     "text": [
      "data: [-200 -100    1    1    1    2    2    3    3    4    4    4    5    6\n",
      "    7    7    8    8    9    9   10  300  500]\n",
      "max: 500\n",
      "3rd q:8.0\n",
      "2nd q:4.0\n",
      "1st q:2.0\n",
      "min: -200\n",
      "iqr: 6.0\n",
      "upper: 10\n",
      "lower: 1\n"
     ]
    }
   ],
   "source": [
    "\n",
    "# Import package numpy for numeric computing\n",
    "import numpy as np\n",
    "\n",
    "# Import package matplotlib for visualisation/plotting\n",
    "import matplotlib.pyplot as plt\n",
    "\n",
    "#For showing plots directly in the notebook run the command below\n",
    "%matplotlib inline\n",
    "\n",
    "data = np.array([-200, -100, 1, 1, 1, 2, 2, 3, 3, 4, 4, 4, 5, 6, 7, 7, 8, 8, 9, 9, 10, 300, 500])\n",
    "\n",
    "print(\"data: \" + str(data))\n",
    "\n",
    "max_a = np.max(data)\n",
    "print(\"max: \" + str(max_a))\n",
    "\n",
    "p_75 = np.percentile(data, 75)\n",
    "print(\"3rd q:\" + str(p_75))\n",
    "\n",
    "p_50 = np.percentile(data, 50)\n",
    "print(\"2nd q:\" + str(p_50))\n",
    "\n",
    "p_25 = np.percentile(data, 25)\n",
    "print(\"1st q:\" + str(p_25))\n",
    "\n",
    "min_a = np.min(data)\n",
    "print(\"min: \" + str(min_a))\n",
    "\n",
    "iqr = p_75 - p_25\n",
    "print(\"iqr: \" + str(iqr))\n",
    "\n",
    "#the whiskers in the boxplot are actual data points in the data\n",
    "# the upper data point is the closest value in the data, lower than p_75+1.5*iqr\n",
    "upper = data[data<=p_75+1.5*iqr].max()\n",
    "# the lower data point is the closest value in the data, higher than p_25+1.5*iqr\n",
    "lower = data[data>=p_25-1.5*iqr].min()\n",
    "print(\"upper: \" + str(upper))\n",
    "print(\"lower: \" + str(lower))\n"
   ]
  },
  {
   "cell_type": "code",
   "execution_count": 5,
   "metadata": {},
   "outputs": [
    {
     "data": {
      "image/png": "[encoded data removed]",
      "text/plain": [
       "<Figure size 648x432 with 1 Axes>"
      ]
     },
     "metadata": {
      "needs_background": "light"
     },
     "output_type": "display_data"
    }
   ],
   "source": [
    "# Create a figure instance\n",
    "fig = plt.figure(1, figsize=(9, 6))\n",
    "\n",
    "# Create an axes instance\n",
    "ax = fig.add_subplot(111)\n",
    "\n",
    "# Create the boxplot\n",
    "# https://matplotlib.org/3.1.1/api/_as_gen/matplotlib.pyplot.boxplot.html\n",
    "bp = ax.boxplot(data)\n",
    "\n",
    "# Save the figure\n",
    "fig.savefig('boxplot-original-a.png')"
   ]
  },
  {
   "cell_type": "code",
   "execution_count": 8,
   "metadata": {},
   "outputs": [
    {
     "name": "stdout",
     "output_type": "stream",
     "text": [
      "original data: [-200 -100    1    1    1    2    2    3    3    4    4    4    5    6\n",
      "    7    7    8    8    9    9   10  300  500]\n",
      "clamped data: [ 1.  1.  1.  1.  1.  2.  2.  3.  3.  4.  4.  4.  5.  6.  7.  7.  8.  8.\n",
      "  9.  9. 10. 10. 10.]\n"
     ]
    }
   ],
   "source": [
    "#Clamp the values in a to lower and upper bounds\n",
    "data_clampped = np.zeros(data.size)\n",
    "\n",
    "for i in range(data.size):\n",
    "    if data[i] < lower:\n",
    "        data_clampped[i] = lower\n",
    "    elif data[i] > upper:\n",
    "            data_clampped[i] = upper\n",
    "    else: data_clampped[i] = data[i]        \n",
    "    \n",
    "print(\"original data:\", data) \n",
    "print(\"clamped data:\", data_clampped) "
   ]
  },
  {
   "cell_type": "code",
   "execution_count": 9,
   "metadata": {},
   "outputs": [
    {
     "data": {
      "image/png": "[encoded data removed]",
      "text/plain": [
       "<Figure size 648x432 with 1 Axes>"
      ]
     },
     "metadata": {
      "needs_background": "light"
     },
     "output_type": "display_data"
    }
   ],
   "source": [
    "# Create a figure instance\n",
    "fig = plt.figure(1, figsize=(9, 6))\n",
    "\n",
    "# Create an axes instance\n",
    "ax = fig.add_subplot(111)\n",
    "\n",
    "# Create the boxplot\n",
    "bp = ax.boxplot([data_clampped])\n",
    "\n",
    "# Save the figure\n",
    "fig.savefig('boxplot-clampped-a.png')"
   ]
  },
  {
   "cell_type": "code",
   "execution_count": null,
   "metadata": {},
   "outputs": [],
   "source": []
  }
 ],
 "metadata": {
  "kernelspec": {
   "display_name": "Python 3 (ipykernel)",
   "language": "python",
   "name": "python3"
  },
  "language_info": {
   "codemirror_mode": {
    "name": "ipython",
    "version": 3
   },
   "file_extension": ".py",
   "mimetype": "text/x-python",
   "name": "python",
   "nbconvert_exporter": "python",
   "pygments_lexer": "ipython3",
   "version": "3.11.7"
  }
 },
 "nbformat": 4,
 "nbformat_minor": 4
}
