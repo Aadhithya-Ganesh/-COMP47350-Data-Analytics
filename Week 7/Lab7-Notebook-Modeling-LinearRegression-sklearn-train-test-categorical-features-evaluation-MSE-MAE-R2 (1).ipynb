{
 "cells": [
  {
   "cell_type": "markdown",
   "metadata": {},
   "source": [
    "# Linear Regression\n",
    "The purpose of this notebook is to practice training (also known as fitting), interpreting and evaluating linear regression predictive models. \n",
    "We will use Python packages: pandas, matplotlib and scikit-learn.\n",
    "Besides the material presented in this notebook, please also read this [notebook](http://www.dataschool.io/linear-regression-in-python/) that is very well written, contains many useful details and gives pointers to further reading. \n",
    "\n",
    "Training a linear regression model means estimating a set of weights (one weight per feature, plus an extra weight called the bias or the intercept) on a dataset called the training set. \n",
    "\n",
    "The model estimated is a linear model taking the form:\n",
    "\n",
    "$target\\_feature = w_0 + w_1 * feature_1 + w_2*feature_2 + ...+ w_n*feature_n $\n",
    "\n",
    "The learned model can be used to predict the target feature for new examples where we know the descriptive features, but not the target feature. This is called the test example or the test data. In this notebook we will see the difference between evaluating the model on the training data and measuring the model error (called in-sample error) versus evaluating the model on the test data and measuring that error (called out-of-sample error). It is recommended that we always evaluate our model on a second dataset that was not used during training (that second dataset is usually called the test set). This way we avoid overfitting, which is the process of memorising the training data without actually achieving good generalisation ability to predict well on new data."
   ]
  },
  {
   "cell_type": "markdown",
   "metadata": {},
   "source": [
    "## Reading data"
   ]
  },
  {
   "cell_type": "code",
   "execution_count": 2,
   "metadata": {},
   "outputs": [],
   "source": [
    "# Library Imports.\n",
    "import pandas as pd\n",
    "import matplotlib.pyplot as plt\n",
    "import numpy as np\n",
    "\n",
    "# Allows plots to appear directly in the notebook.\n",
    "%matplotlib inline\n",
    "\n",
    "from patsy import dmatrices\n",
    "from sklearn.linear_model import LinearRegression\n",
    "from sklearn.model_selection import train_test_split\n",
    "from sklearn import metrics\n",
    "from sklearn.model_selection import cross_validate\n",
    "from sklearn.model_selection import cross_val_score "
   ]
  },
  {
   "cell_type": "code",
   "execution_count": 3,
   "metadata": {},
   "outputs": [
    {
     "data": {
      "text/html": [
       "<div>\n",
       "<style scoped>\n",
       "    .dataframe tbody tr th:only-of-type {\n",
       "        vertical-align: middle;\n",
       "    }\n",
       "\n",
       "    .dataframe tbody tr th {\n",
       "        vertical-align: top;\n",
       "    }\n",
       "\n",
       "    .dataframe thead th {\n",
       "        text-align: right;\n",
       "    }\n",
       "</style>\n",
       "<table border=\"1\" class=\"dataframe\">\n",
       "  <thead>\n",
       "    <tr style=\"text-align: right;\">\n",
       "      <th></th>\n",
       "      <th>ID</th>\n",
       "      <th>Size</th>\n",
       "      <th>Floor</th>\n",
       "      <th>BroadbandRate</th>\n",
       "      <th>EnergyRating</th>\n",
       "      <th>RentalPrice</th>\n",
       "    </tr>\n",
       "  </thead>\n",
       "  <tbody>\n",
       "    <tr>\n",
       "      <th>0</th>\n",
       "      <td>1</td>\n",
       "      <td>500</td>\n",
       "      <td>4</td>\n",
       "      <td>8</td>\n",
       "      <td>C</td>\n",
       "      <td>320</td>\n",
       "    </tr>\n",
       "    <tr>\n",
       "      <th>1</th>\n",
       "      <td>2</td>\n",
       "      <td>550</td>\n",
       "      <td>7</td>\n",
       "      <td>50</td>\n",
       "      <td>A</td>\n",
       "      <td>380</td>\n",
       "    </tr>\n",
       "    <tr>\n",
       "      <th>2</th>\n",
       "      <td>3</td>\n",
       "      <td>620</td>\n",
       "      <td>9</td>\n",
       "      <td>7</td>\n",
       "      <td>A</td>\n",
       "      <td>400</td>\n",
       "    </tr>\n",
       "    <tr>\n",
       "      <th>3</th>\n",
       "      <td>4</td>\n",
       "      <td>630</td>\n",
       "      <td>5</td>\n",
       "      <td>24</td>\n",
       "      <td>B</td>\n",
       "      <td>390</td>\n",
       "    </tr>\n",
       "    <tr>\n",
       "      <th>4</th>\n",
       "      <td>5</td>\n",
       "      <td>665</td>\n",
       "      <td>8</td>\n",
       "      <td>100</td>\n",
       "      <td>C</td>\n",
       "      <td>385</td>\n",
       "    </tr>\n",
       "    <tr>\n",
       "      <th>5</th>\n",
       "      <td>6</td>\n",
       "      <td>700</td>\n",
       "      <td>4</td>\n",
       "      <td>8</td>\n",
       "      <td>B</td>\n",
       "      <td>410</td>\n",
       "    </tr>\n",
       "    <tr>\n",
       "      <th>6</th>\n",
       "      <td>7</td>\n",
       "      <td>770</td>\n",
       "      <td>10</td>\n",
       "      <td>7</td>\n",
       "      <td>B</td>\n",
       "      <td>480</td>\n",
       "    </tr>\n",
       "    <tr>\n",
       "      <th>7</th>\n",
       "      <td>8</td>\n",
       "      <td>880</td>\n",
       "      <td>12</td>\n",
       "      <td>50</td>\n",
       "      <td>A</td>\n",
       "      <td>600</td>\n",
       "    </tr>\n",
       "    <tr>\n",
       "      <th>8</th>\n",
       "      <td>9</td>\n",
       "      <td>920</td>\n",
       "      <td>14</td>\n",
       "      <td>8</td>\n",
       "      <td>C</td>\n",
       "      <td>570</td>\n",
       "    </tr>\n",
       "    <tr>\n",
       "      <th>9</th>\n",
       "      <td>10</td>\n",
       "      <td>1000</td>\n",
       "      <td>9</td>\n",
       "      <td>24</td>\n",
       "      <td>B</td>\n",
       "      <td>620</td>\n",
       "    </tr>\n",
       "  </tbody>\n",
       "</table>\n",
       "</div>"
      ],
      "text/plain": [
       "   ID  Size  Floor  BroadbandRate EnergyRating  RentalPrice\n",
       "0   1   500      4              8            C          320\n",
       "1   2   550      7             50            A          380\n",
       "2   3   620      9              7            A          400\n",
       "3   4   630      5             24            B          390\n",
       "4   5   665      8            100            C          385\n",
       "5   6   700      4              8            B          410\n",
       "6   7   770     10              7            B          480\n",
       "7   8   880     12             50            A          600\n",
       "8   9   920     14              8            C          570\n",
       "9  10  1000      9             24            B          620"
      ]
     },
     "execution_count": 3,
     "metadata": {},
     "output_type": "execute_result"
    }
   ],
   "source": [
    "# Read a CSV dataset with 10 example offices into a dataframe.\n",
    "# The data is described by 5 features (4 descriptive features: Size, Floor, BroadbandRate, EnergyRating;\n",
    "# the target feature: RentalPrice).\n",
    "\n",
    "\n",
    "# Read csv file into a dataframe.\n",
    "df = pd.read_csv('Offices.csv')\n",
    "df.head(10)"
   ]
  },
  {
   "cell_type": "code",
   "execution_count": 4,
   "metadata": {},
   "outputs": [
    {
     "data": {
      "text/plain": [
       "np.float64(455.5)"
      ]
     },
     "execution_count": 4,
     "metadata": {},
     "output_type": "execute_result"
    }
   ],
   "source": [
    "# Print the average RentalPrice in our dataset.\n",
    "# We could use this as a very simple baseline prediction model.\n",
    "# A better prediction model should at least improve on this baseline model.\n",
    "df.RentalPrice.mean()"
   ]
  },
  {
   "cell_type": "code",
   "execution_count": 5,
   "metadata": {},
   "outputs": [
    {
     "data": {
      "text/plain": [
       "ID                int64\n",
       "Size              int64\n",
       "Floor             int64\n",
       "BroadbandRate     int64\n",
       "EnergyRating     object\n",
       "RentalPrice       int64\n",
       "dtype: object"
      ]
     },
     "execution_count": 5,
     "metadata": {},
     "output_type": "execute_result"
    }
   ],
   "source": [
    "# Print the feature types in our dataset.\n",
    "df.dtypes"
   ]
  },
  {
   "cell_type": "markdown",
   "metadata": {},
   "source": [
    "## Understanding data (no detailed data analysis here, onlsy scatter plots)"
   ]
  },
  {
   "cell_type": "code",
   "execution_count": 6,
   "metadata": {},
   "outputs": [
    {
     "data": {
      "text/html": [
       "<div>\n",
       "<style scoped>\n",
       "    .dataframe tbody tr th:only-of-type {\n",
       "        vertical-align: middle;\n",
       "    }\n",
       "\n",
       "    .dataframe tbody tr th {\n",
       "        vertical-align: top;\n",
       "    }\n",
       "\n",
       "    .dataframe thead th {\n",
       "        text-align: right;\n",
       "    }\n",
       "</style>\n",
       "<table border=\"1\" class=\"dataframe\">\n",
       "  <thead>\n",
       "    <tr style=\"text-align: right;\">\n",
       "      <th></th>\n",
       "      <th>Size</th>\n",
       "      <th>Floor</th>\n",
       "      <th>BroadbandRate</th>\n",
       "      <th>RentalPrice</th>\n",
       "    </tr>\n",
       "  </thead>\n",
       "  <tbody>\n",
       "    <tr>\n",
       "      <th>Size</th>\n",
       "      <td>1.000000</td>\n",
       "      <td>0.710863</td>\n",
       "      <td>-0.069117</td>\n",
       "      <td>0.971262</td>\n",
       "    </tr>\n",
       "    <tr>\n",
       "      <th>Floor</th>\n",
       "      <td>0.710863</td>\n",
       "      <td>1.000000</td>\n",
       "      <td>0.054897</td>\n",
       "      <td>0.766020</td>\n",
       "    </tr>\n",
       "    <tr>\n",
       "      <th>BroadbandRate</th>\n",
       "      <td>-0.069117</td>\n",
       "      <td>0.054897</td>\n",
       "      <td>1.000000</td>\n",
       "      <td>-0.068597</td>\n",
       "    </tr>\n",
       "    <tr>\n",
       "      <th>RentalPrice</th>\n",
       "      <td>0.971262</td>\n",
       "      <td>0.766020</td>\n",
       "      <td>-0.068597</td>\n",
       "      <td>1.000000</td>\n",
       "    </tr>\n",
       "  </tbody>\n",
       "</table>\n",
       "</div>"
      ],
      "text/plain": [
       "                   Size     Floor  BroadbandRate  RentalPrice\n",
       "Size           1.000000  0.710863      -0.069117     0.971262\n",
       "Floor          0.710863  1.000000       0.054897     0.766020\n",
       "BroadbandRate -0.069117  0.054897       1.000000    -0.068597\n",
       "RentalPrice    0.971262  0.766020      -0.068597     1.000000"
      ]
     },
     "execution_count": 6,
     "metadata": {},
     "output_type": "execute_result"
    }
   ],
   "source": [
    "# Look at correlations for all the continuous features.\n",
    "df[['Size', 'Floor', 'BroadbandRate', 'RentalPrice']].corr()"
   ]
  },
  {
   "cell_type": "code",
   "execution_count": 7,
   "metadata": {},
   "outputs": [
    {
     "data": {
      "text/plain": [
       "np.float64(0.9712620608629575)"
      ]
     },
     "execution_count": 7,
     "metadata": {},
     "output_type": "execute_result"
    }
   ],
   "source": [
    "# Print the correlation for a given pair of features.\n",
    "df[['Size', 'RentalPrice']].corr().to_numpy()[0,1]"
   ]
  },
  {
   "cell_type": "code",
   "execution_count": 8,
   "metadata": {},
   "outputs": [
    {
     "data": {
      "text/plain": [
       "<Axes: xlabel='BroadbandRate', ylabel='RentalPrice'>"
      ]
     },
     "execution_count": 8,
     "metadata": {},
     "output_type": "execute_result"
    },
    {
     "data": {
      "image/png": "[encoded data removed]",
      "text/plain": [
       "<Figure size 1000x500 with 3 Axes>"
      ]
     },
     "metadata": {},
     "output_type": "display_data"
    }
   ],
   "source": [
    "# Scatterplots for each descriptive feature and target feature. \n",
    "# Show the correlation value in the plot.\n",
    "# This allows us to check strength of correlation with the target feature.\n",
    "#plt.figure(figsize=(7, 3), dpi=100)\n",
    "fig, axs = plt.subplots(1, 3, sharey=True)\n",
    "df.plot(kind='scatter', x='Size', y='RentalPrice', label=\"%.3f\" % df[['Size', 'RentalPrice']].corr().to_numpy()[0,1], ax=axs[0], figsize=(10, 5))\n",
    "df.plot(kind='scatter', x='Floor', y='RentalPrice', label=\"%.3f\" % df[['Floor', 'RentalPrice']].corr().to_numpy()[0,1], ax=axs[1])\n",
    "df.plot(kind='scatter', x='BroadbandRate', y='RentalPrice', label=\"%.3f\" % df[['BroadbandRate', 'RentalPrice']].corr().to_numpy()[0,1], ax=axs[2])"
   ]
  },
  {
   "cell_type": "markdown",
   "metadata": {},
   "source": [
    "# Linear regression with package <span style=\"color:red\">scikit-learn</span>\n",
    "\n",
    "## Simple linear regression (one descriptive feature)"
   ]
  },
  {
   "cell_type": "markdown",
   "metadata": {},
   "source": [
    "### Preparing the data"
   ]
  },
  {
   "cell_type": "code",
   "execution_count": 9,
   "metadata": {},
   "outputs": [
    {
     "name": "stdout",
     "output_type": "stream",
     "text": [
      "\n",
      "Descriptive features in X:\n",
      "    Size  Floor  BroadbandRate\n",
      "0   500      4              8\n",
      "1   550      7             50\n",
      "2   620      9              7\n",
      "3   630      5             24\n",
      "4   665      8            100\n",
      "5   700      4              8\n",
      "6   770     10              7\n",
      "7   880     12             50\n",
      "8   920     14              8\n",
      "9  1000      9             24\n",
      "\n",
      "Target feature in y:\n",
      " 0    320\n",
      "1    380\n",
      "2    400\n",
      "3    390\n",
      "4    385\n",
      "5    410\n",
      "6    480\n",
      "7    600\n",
      "8    570\n",
      "9    620\n",
      "Name: RentalPrice, dtype: int64\n"
     ]
    }
   ],
   "source": [
    "# Prepare the descriptive features\n",
    "#print(df.head(10))\n",
    "X = df[['Size', 'Floor', 'BroadbandRate']]\n",
    "y = df.RentalPrice\n",
    "\n",
    "print(\"\\nDescriptive features in X:\\n\", X)\n",
    "print(\"\\nTarget feature in y:\\n\", y)"
   ]
  },
  {
   "cell_type": "markdown",
   "metadata": {},
   "source": [
    "### Training a model"
   ]
  },
  {
   "cell_type": "code",
   "execution_count": 10,
   "metadata": {},
   "outputs": [],
   "source": [
    "# Train a model using linear regression from scikit-learn.\n",
    "# By default sklearn fits an intercept.\n",
    "# Use only the descriptive feature Size.\n",
    "features = ['Size']\n",
    "linreg = LinearRegression().fit(X[features], y)"
   ]
  },
  {
   "cell_type": "code",
   "execution_count": 11,
   "metadata": {},
   "outputs": [
    {
     "name": "stdout",
     "output_type": "stream",
     "text": [
      "\n",
      "Intercept: \n",
      " 6.46689980730207\n",
      "Features: \n",
      " ['Size']\n",
      "Coeficients: \n",
      " [0.62064008]\n"
     ]
    }
   ],
   "source": [
    "# The model learned is: RentalPrice = 6.46690 + 0.62064 * Size\n",
    "# This means that for a unit increase in Size, we have a 0.62064 unit increase in RentalPrice.\n",
    "\n",
    "# Print the estimated linear regression coefficients.\n",
    "print(\"\\nIntercept: \\n\", linreg.intercept_)\n",
    "print(\"Features: \\n\", features)\n",
    "print(\"Coeficients: \\n\", linreg.coef_)"
   ]
  },
  {
   "cell_type": "markdown",
   "metadata": {},
   "source": [
    "### Prediction with the model\n",
    "Using the trained model to predict the target feature RentalPrice, given the descriptive feature Size."
   ]
  },
  {
   "cell_type": "code",
   "execution_count": 12,
   "metadata": {},
   "outputs": [
    {
     "data": {
      "text/html": [
       "<div>\n",
       "<style scoped>\n",
       "    .dataframe tbody tr th:only-of-type {\n",
       "        vertical-align: middle;\n",
       "    }\n",
       "\n",
       "    .dataframe tbody tr th {\n",
       "        vertical-align: top;\n",
       "    }\n",
       "\n",
       "    .dataframe thead th {\n",
       "        text-align: right;\n",
       "    }\n",
       "</style>\n",
       "<table border=\"1\" class=\"dataframe\">\n",
       "  <thead>\n",
       "    <tr style=\"text-align: right;\">\n",
       "      <th></th>\n",
       "      <th>RentalPrice</th>\n",
       "      <th>Predicted</th>\n",
       "    </tr>\n",
       "  </thead>\n",
       "  <tbody>\n",
       "    <tr>\n",
       "      <th>0</th>\n",
       "      <td>320</td>\n",
       "      <td>316.786941</td>\n",
       "    </tr>\n",
       "    <tr>\n",
       "      <th>1</th>\n",
       "      <td>380</td>\n",
       "      <td>347.818946</td>\n",
       "    </tr>\n",
       "    <tr>\n",
       "      <th>2</th>\n",
       "      <td>400</td>\n",
       "      <td>391.263751</td>\n",
       "    </tr>\n",
       "    <tr>\n",
       "      <th>3</th>\n",
       "      <td>390</td>\n",
       "      <td>397.470152</td>\n",
       "    </tr>\n",
       "    <tr>\n",
       "      <th>4</th>\n",
       "      <td>385</td>\n",
       "      <td>419.192555</td>\n",
       "    </tr>\n",
       "    <tr>\n",
       "      <th>5</th>\n",
       "      <td>410</td>\n",
       "      <td>440.914958</td>\n",
       "    </tr>\n",
       "    <tr>\n",
       "      <th>6</th>\n",
       "      <td>480</td>\n",
       "      <td>484.359764</td>\n",
       "    </tr>\n",
       "    <tr>\n",
       "      <th>7</th>\n",
       "      <td>600</td>\n",
       "      <td>552.630173</td>\n",
       "    </tr>\n",
       "    <tr>\n",
       "      <th>8</th>\n",
       "      <td>570</td>\n",
       "      <td>577.455776</td>\n",
       "    </tr>\n",
       "    <tr>\n",
       "      <th>9</th>\n",
       "      <td>620</td>\n",
       "      <td>627.106983</td>\n",
       "    </tr>\n",
       "  </tbody>\n",
       "</table>\n",
       "</div>"
      ],
      "text/plain": [
       "   RentalPrice   Predicted\n",
       "0          320  316.786941\n",
       "1          380  347.818946\n",
       "2          400  391.263751\n",
       "3          390  397.470152\n",
       "4          385  419.192555\n",
       "5          410  440.914958\n",
       "6          480  484.359764\n",
       "7          600  552.630173\n",
       "8          570  577.455776\n",
       "9          620  627.106983"
      ]
     },
     "execution_count": 12,
     "metadata": {},
     "output_type": "execute_result"
    }
   ],
   "source": [
    "# Predicted scores for each example. \n",
    "linreg_predictions = linreg.predict(X[['Size']])\n",
    "\n",
    "#print(\"Predicted scores:\", predicted_scores)\n",
    "#print(\"\\nPrediction for first example (Size, RentalPrice, PredictedScore): \", X['Size'].values[0], y.values[0], linreg_predictions[0])\n",
    "actual_vs_predicted = pd.concat([y, pd.DataFrame(linreg_predictions, columns=['Predicted'], index=y.index)], axis=1)\n",
    "actual_vs_predicted"
   ]
  },
  {
   "cell_type": "code",
   "execution_count": 13,
   "metadata": {},
   "outputs": [
    {
     "data": {
      "text/html": [
       "<div>\n",
       "<style scoped>\n",
       "    .dataframe tbody tr th:only-of-type {\n",
       "        vertical-align: middle;\n",
       "    }\n",
       "\n",
       "    .dataframe tbody tr th {\n",
       "        vertical-align: top;\n",
       "    }\n",
       "\n",
       "    .dataframe thead th {\n",
       "        text-align: right;\n",
       "    }\n",
       "</style>\n",
       "<table border=\"1\" class=\"dataframe\">\n",
       "  <thead>\n",
       "    <tr style=\"text-align: right;\">\n",
       "      <th></th>\n",
       "      <th>Size</th>\n",
       "    </tr>\n",
       "  </thead>\n",
       "  <tbody>\n",
       "    <tr>\n",
       "      <th>0</th>\n",
       "      <td>730</td>\n",
       "    </tr>\n",
       "  </tbody>\n",
       "</table>\n",
       "</div>"
      ],
      "text/plain": [
       "   Size\n",
       "0   730"
      ]
     },
     "execution_count": 13,
     "metadata": {},
     "output_type": "execute_result"
    }
   ],
   "source": [
    "# The model learned is: RentalPrice = 6.46690 + 0.62064 * Size\n",
    "# This means that for a unit increase in Size, we have a 0.62064 increase in RentalPrice.\n",
    "# We can use the learned model to predict the RentalPrice for a new office Size.\n",
    "\n",
    "# The Statsmodels predict() method expects a dataframe object.\n",
    "# Create a new dataframe with a new test example. \n",
    "X_new = pd.DataFrame({'Size': [730]})\n",
    "X_new.head()"
   ]
  },
  {
   "cell_type": "code",
   "execution_count": 14,
   "metadata": {},
   "outputs": [
    {
     "data": {
      "text/plain": [
       "array([459.53416054])"
      ]
     },
     "execution_count": 14,
     "metadata": {},
     "output_type": "execute_result"
    }
   ],
   "source": [
    "# Predict the RentalPrice for a new office with Size 730, using the trained model. \n",
    "# The predicted value is 459.53.\n",
    "linreg.predict(X_new)"
   ]
  },
  {
   "cell_type": "markdown",
   "metadata": {},
   "source": [
    "### Plotting the trained model"
   ]
  },
  {
   "cell_type": "code",
   "execution_count": 15,
   "metadata": {},
   "outputs": [
    {
     "data": {
      "text/html": [
       "<div>\n",
       "<style scoped>\n",
       "    .dataframe tbody tr th:only-of-type {\n",
       "        vertical-align: middle;\n",
       "    }\n",
       "\n",
       "    .dataframe tbody tr th {\n",
       "        vertical-align: top;\n",
       "    }\n",
       "\n",
       "    .dataframe thead th {\n",
       "        text-align: right;\n",
       "    }\n",
       "</style>\n",
       "<table border=\"1\" class=\"dataframe\">\n",
       "  <thead>\n",
       "    <tr style=\"text-align: right;\">\n",
       "      <th></th>\n",
       "      <th>Size</th>\n",
       "    </tr>\n",
       "  </thead>\n",
       "  <tbody>\n",
       "    <tr>\n",
       "      <th>0</th>\n",
       "      <td>500</td>\n",
       "    </tr>\n",
       "    <tr>\n",
       "      <th>1</th>\n",
       "      <td>1000</td>\n",
       "    </tr>\n",
       "  </tbody>\n",
       "</table>\n",
       "</div>"
      ],
      "text/plain": [
       "   Size\n",
       "0   500\n",
       "1  1000"
      ]
     },
     "execution_count": 15,
     "metadata": {},
     "output_type": "execute_result"
    }
   ],
   "source": [
    "# We can plot the regression line that was estimated from our trainign set.\n",
    "# First we use the trained model to predict prices for the min and max Size in our dataset.\n",
    "X_minmax = pd.DataFrame({'Size': [df.Size.min(), df.Size.max()]})\n",
    "X_minmax.head()\n"
   ]
  },
  {
   "cell_type": "code",
   "execution_count": 16,
   "metadata": {},
   "outputs": [
    {
     "data": {
      "text/plain": [
       "array([316.78694141, 627.106983  ])"
      ]
     },
     "execution_count": 16,
     "metadata": {},
     "output_type": "execute_result"
    }
   ],
   "source": [
    "# Make predictions for the min and max Size values and store them.\n",
    "predictions_minmax = linreg.predict(X_minmax)\n",
    "predictions_minmax"
   ]
  },
  {
   "cell_type": "code",
   "execution_count": 17,
   "metadata": {},
   "outputs": [
    {
     "data": {
      "text/plain": [
       "[<matplotlib.lines.Line2D at 0x1bfc1c48bd0>]"
      ]
     },
     "execution_count": 17,
     "metadata": {},
     "output_type": "execute_result"
    },
    {
     "data": {
      "image/png": "[encoded data removed]",
      "text/plain": [
       "<Figure size 640x480 with 1 Axes>"
      ]
     },
     "metadata": {},
     "output_type": "display_data"
    }
   ],
   "source": [
    "# First, plot the observed data\n",
    "df.plot(kind='scatter', x='Size', y='RentalPrice')\n",
    "\n",
    "# Next, plot the regression line, in red.\n",
    "plt.plot(X_minmax, predictions_minmax, c='red', linewidth=2)"
   ]
  },
  {
   "cell_type": "markdown",
   "metadata": {},
   "source": [
    "## Multiple linear regression (using more than one feature)"
   ]
  },
  {
   "cell_type": "markdown",
   "metadata": {},
   "source": [
    "### Preparing the data"
   ]
  },
  {
   "cell_type": "code",
   "execution_count": 18,
   "metadata": {},
   "outputs": [
    {
     "name": "stdout",
     "output_type": "stream",
     "text": [
      "\n",
      "Descriptive features in X:\n",
      "    Size  Floor  BroadbandRate\n",
      "0   500      4              8\n",
      "1   550      7             50\n",
      "2   620      9              7\n",
      "3   630      5             24\n",
      "4   665      8            100\n",
      "5   700      4              8\n",
      "6   770     10              7\n",
      "7   880     12             50\n",
      "8   920     14              8\n",
      "9  1000      9             24\n",
      "\n",
      "Target feature in y:\n",
      " 0    320\n",
      "1    380\n",
      "2    400\n",
      "3    390\n",
      "4    385\n",
      "5    410\n",
      "6    480\n",
      "7    600\n",
      "8    570\n",
      "9    620\n",
      "Name: RentalPrice, dtype: int64\n"
     ]
    }
   ],
   "source": [
    "# Prepare the descriptive features\n",
    "#print(df.head(10))\n",
    "#cont_features = ['Size']\n",
    "cont_features = ['Size', 'Floor', 'BroadbandRate']\n",
    "\n",
    "X = df[cont_features]\n",
    "y = df.RentalPrice\n",
    "\n",
    "print(\"\\nDescriptive features in X:\\n\", X)\n",
    "print(\"\\nTarget feature in y:\\n\", y)"
   ]
  },
  {
   "cell_type": "markdown",
   "metadata": {},
   "source": [
    "### Training the model"
   ]
  },
  {
   "cell_type": "code",
   "execution_count": 19,
   "metadata": {},
   "outputs": [
    {
     "name": "stdout",
     "output_type": "stream",
     "text": [
      "Features: \n",
      " ['Size', 'Floor', 'BroadbandRate']\n",
      "Coeficients: \n",
      " [ 0.54873985  4.96354677 -0.06209515]\n",
      "\n",
      "Intercept: \n",
      " 19.561558897449686\n"
     ]
    },
    {
     "data": {
      "text/html": [
       "<div>\n",
       "<style scoped>\n",
       "    .dataframe tbody tr th:only-of-type {\n",
       "        vertical-align: middle;\n",
       "    }\n",
       "\n",
       "    .dataframe tbody tr th {\n",
       "        vertical-align: top;\n",
       "    }\n",
       "\n",
       "    .dataframe thead th {\n",
       "        text-align: right;\n",
       "    }\n",
       "</style>\n",
       "<table border=\"1\" class=\"dataframe\">\n",
       "  <thead>\n",
       "    <tr style=\"text-align: right;\">\n",
       "      <th></th>\n",
       "      <th>feature</th>\n",
       "      <th>importance</th>\n",
       "    </tr>\n",
       "  </thead>\n",
       "  <tbody>\n",
       "    <tr>\n",
       "      <th>1</th>\n",
       "      <td>Floor</td>\n",
       "      <td>4.963547</td>\n",
       "    </tr>\n",
       "    <tr>\n",
       "      <th>0</th>\n",
       "      <td>Size</td>\n",
       "      <td>0.548740</td>\n",
       "    </tr>\n",
       "    <tr>\n",
       "      <th>2</th>\n",
       "      <td>BroadbandRate</td>\n",
       "      <td>-0.062095</td>\n",
       "    </tr>\n",
       "  </tbody>\n",
       "</table>\n",
       "</div>"
      ],
      "text/plain": [
       "         feature  importance\n",
       "1          Floor    4.963547\n",
       "0           Size    0.548740\n",
       "2  BroadbandRate   -0.062095"
      ]
     },
     "execution_count": 19,
     "metadata": {},
     "output_type": "execute_result"
    }
   ],
   "source": [
    "# Use more features for training\n",
    "# Train aka fit, a model using all continuous features.\n",
    "\n",
    "linreg = LinearRegression().fit(X[cont_features], y)\n",
    "\n",
    "# Print the weights learned for each feature.\n",
    "print(\"Features: \\n\", cont_features)\n",
    "print(\"Coeficients: \\n\", linreg.coef_)\n",
    "print(\"\\nIntercept: \\n\", linreg.intercept_)\n",
    "\n",
    "feature_importance = pd.DataFrame({'feature': cont_features, 'importance':linreg.coef_})\n",
    "feature_importance.sort_values('importance', ascending=False)"
   ]
  },
  {
   "cell_type": "markdown",
   "metadata": {},
   "source": [
    "### Prediction with the trained model\n",
    "Using the trained model to predict the target feature RentalPrice, given the descriptive features Size, Floor  BroadbandRate."
   ]
  },
  {
   "cell_type": "code",
   "execution_count": 20,
   "metadata": {},
   "outputs": [
    {
     "name": "stdout",
     "output_type": "stream",
     "text": [
      "\n",
      "Predictions with linear regression: \n",
      "\n",
      "   RentalPrice   Predicted\n",
      "0          320  313.288908\n",
      "1          380  353.008544\n",
      "2          400  404.017519\n",
      "3          390  388.595112\n",
      "4          385  417.972416\n",
      "5          410  423.036877\n",
      "6          480  491.292042\n",
      "7          600  558.910427\n",
      "8          570  593.395111\n",
      "9          620  611.483043\n"
     ]
    }
   ],
   "source": [
    "linreg_predictions = linreg.predict(X[cont_features])\n",
    "\n",
    "print(\"\\nPredictions with linear regression: \\n\")\n",
    "actual_vs_predicted_linreg = pd.concat([y, pd.DataFrame(linreg_predictions, columns=['Predicted'], index=y.index)], axis=1)\n",
    "print(actual_vs_predicted_linreg)"
   ]
  },
  {
   "cell_type": "code",
   "execution_count": 21,
   "metadata": {},
   "outputs": [
    {
     "name": "stdout",
     "output_type": "stream",
     "text": [
      "Actual - Predicted:\n",
      " 0     6.711092\n",
      "1    26.991456\n",
      "2    -4.017519\n",
      "3     1.404888\n",
      "4   -32.972416\n",
      "5   -13.036877\n",
      "6   -11.292042\n",
      "7    41.089573\n",
      "8   -23.395111\n",
      "9     8.516957\n",
      "Name: RentalPrice, dtype: float64\n",
      "\n",
      "(Actual - Predicted) squared:\n",
      " 0      45.038756\n",
      "1     728.538680\n",
      "2      16.140455\n",
      "3       1.973709\n",
      "4    1087.180212\n",
      "5     169.960169\n",
      "6     127.510219\n",
      "7    1688.352971\n",
      "8     547.331226\n",
      "9      72.538563\n",
      "Name: RentalPrice, dtype: float64\n",
      "\n",
      " Sum of (Actual - Predicted) squared:\n",
      " 4484.564959646265\n"
     ]
    }
   ],
   "source": [
    "#Pair the actual and the predicted values\n",
    "#This can be done directly with sklearn functions, but below is a manual example to understand how it works\n",
    "prediction_errors = y - linreg_predictions\n",
    "print(\"Actual - Predicted:\\n\", prediction_errors)\n",
    "print(\"\\n(Actual - Predicted) squared:\\n\", prediction_errors**2)\n",
    "print(\"\\n Sum of (Actual - Predicted) squared:\\n\", (prediction_errors**2).sum())\n"
   ]
  },
  {
   "cell_type": "code",
   "execution_count": 22,
   "metadata": {},
   "outputs": [
    {
     "name": "stdout",
     "output_type": "stream",
     "text": [
      "\n",
      "Mean Squared Error:\n",
      " 448.4564959646265\n",
      "\n",
      "Root Mean Squared Error:\n",
      " 21.176791446407233\n"
     ]
    }
   ],
   "source": [
    "# Print the Mean Squared Error of the model on the training set\n",
    "mse = (prediction_errors** 2).mean()\n",
    "rmse = ((prediction_errors** 2).mean())**0.5\n",
    "\n",
    "print(\"\\nMean Squared Error:\\n\", mse)\n",
    "print(\"\\nRoot Mean Squared Error:\\n\", rmse)"
   ]
  },
  {
   "cell_type": "code",
   "execution_count": 23,
   "metadata": {},
   "outputs": [
    {
     "name": "stdout",
     "output_type": "stream",
     "text": [
      "|Actual - Predicted|:\n",
      " 0     6.711092\n",
      "1    26.991456\n",
      "2     4.017519\n",
      "3     1.404888\n",
      "4    32.972416\n",
      "5    13.036877\n",
      "6    11.292042\n",
      "7    41.089573\n",
      "8    23.395111\n",
      "9     8.516957\n",
      "Name: RentalPrice, dtype: float64\n"
     ]
    }
   ],
   "source": [
    "print(\"|Actual - Predicted|:\\n\", abs(prediction_errors))"
   ]
  },
  {
   "cell_type": "code",
   "execution_count": 24,
   "metadata": {},
   "outputs": [
    {
     "name": "stdout",
     "output_type": "stream",
     "text": [
      "\n",
      "Mean Absolute Error:\n",
      " 16.942793036576195\n"
     ]
    }
   ],
   "source": [
    "# Print the Mean Absolute Error of the model on the training set\n",
    "mae = abs(prediction_errors).mean()\n",
    "print(\"\\nMean Absolute Error:\\n\", mae)"
   ]
  },
  {
   "cell_type": "code",
   "execution_count": 25,
   "metadata": {},
   "outputs": [
    {
     "name": "stdout",
     "output_type": "stream",
     "text": [
      "\n",
      " Sum of squared errors:\n",
      " 4484.564959646265\n",
      "\n",
      "AverageModelPredictions:\n",
      " [455.5 455.5 455.5 455.5 455.5 455.5 455.5 455.5 455.5 455.5]\n",
      "Actual - AvgPredictions:\n",
      " 0   -135.5\n",
      "1    -75.5\n",
      "2    -55.5\n",
      "3    -65.5\n",
      "4    -70.5\n",
      "5    -45.5\n",
      "6     24.5\n",
      "7    144.5\n",
      "8    114.5\n",
      "9    164.5\n",
      "Name: RentalPrice, dtype: float64\n",
      "\n",
      "(Actual - AvgPredictions) squared:\n",
      " 0    18360.25\n",
      "1     5700.25\n",
      "2     3080.25\n",
      "3     4290.25\n",
      "4     4970.25\n",
      "5     2070.25\n",
      "6      600.25\n",
      "7    20880.25\n",
      "8    13110.25\n",
      "9    27060.25\n",
      "Name: RentalPrice, dtype: float64\n",
      "\n",
      " Total sum of squared errors:\n",
      " 100122.5\n",
      "\n",
      " R2:\n",
      " 0.9552092191101275\n"
     ]
    }
   ],
   "source": [
    "# Print the R2 of the model on the training set\n",
    "#Pair the actual and the predicted values\n",
    "#This can be done directly with sklearn functions, \n",
    "#but below is a manual example to understand how it works\n",
    "\n",
    "prediction_errors = y - linreg_predictions\n",
    "#print(\"Actual - Predicted:\\n\", prediction_errors)\n",
    "#print(\"\\n(Actual - Predicted) squared:\\n\", prediction_errors**2)\n",
    "print(\"\\n Sum of squared errors:\\n\", sum(prediction_errors**2))\n",
    "\n",
    "avg_predictions =np.ones(y.shape[0])* df.RentalPrice.mean()\n",
    "\n",
    "print(\"\\nAverageModelPredictions:\\n\", avg_predictions)\n",
    "avgpredictions_errors = y - avg_predictions\n",
    "print(\"Actual - AvgPredictions:\\n\", avgpredictions_errors)\n",
    "print(\"\\n(Actual - AvgPredictions) squared:\\n\", avgpredictions_errors**2)\n",
    "print(\"\\n Total sum of squared errors:\\n\", sum(avgpredictions_errors**2))\n",
    "\n",
    "r2 = 1 - sum(prediction_errors**2)/sum(avgpredictions_errors**2)\n",
    "print(\"\\n R2:\\n\", r2)\n"
   ]
  },
  {
   "cell_type": "code",
   "execution_count": 26,
   "metadata": {},
   "outputs": [],
   "source": [
    "#This function is used repeatedly to compute all metrics\n",
    "def printMetrics(testActualVal, predictions):\n",
    "    #classification evaluation measures\n",
    "    print('\\n==============================================================================')\n",
    "    print(\"MAE: \", metrics.mean_absolute_error(testActualVal, predictions))\n",
    "    #print(\"MSE: \", metrics.mean_squared_error(testActualVal, predictions))\n",
    "    print(\"RMSE: \", metrics.mean_squared_error(testActualVal, predictions)**0.5)\n",
    "    print(\"R2: \", metrics.r2_score(testActualVal, predictions))\n",
    "        "
   ]
  },
  {
   "cell_type": "code",
   "execution_count": 27,
   "metadata": {},
   "outputs": [
    {
     "name": "stdout",
     "output_type": "stream",
     "text": [
      "\n",
      "==============================================================================\n",
      "MAE:  16.942793036576195\n",
      "RMSE:  21.176791446407233\n",
      "R2:  0.9552092191101275\n"
     ]
    }
   ],
   "source": [
    "printMetrics(y, linreg_predictions)"
   ]
  },
  {
   "cell_type": "markdown",
   "metadata": {},
   "source": [
    "# Training with continuous and categorical features"
   ]
  },
  {
   "cell_type": "code",
   "execution_count": 28,
   "metadata": {},
   "outputs": [
    {
     "name": "stdout",
     "output_type": "stream",
     "text": [
      "EnergyRatingDummies:\n",
      "    EnergyRating_B  EnergyRating_C\n",
      "0               0               1\n",
      "1               0               0\n",
      "2               0               0\n",
      "3               1               0\n",
      "4               0               1\n",
      "5               1               0\n",
      "6               1               0\n",
      "7               0               0\n",
      "8               0               1\n",
      "9               1               0\n",
      "\n",
      "Cont features:  ['Size', 'Floor', 'BroadbandRate']\n",
      "Categ features:  ['EnergyRating_B', 'EnergyRating_C']\n",
      "Features:  ['Size', 'Floor', 'BroadbandRate', 'EnergyRating_B', 'EnergyRating_C']\n"
     ]
    }
   ],
   "source": [
    "# Use more features for training\n",
    "# Train aka fit, a model using all continuous and categorical features.\n",
    "EnergyRating_dummies = pd.get_dummies(df['EnergyRating'], prefix='EnergyRating', drop_first=True, dtype = int) \n",
    "print(\"EnergyRatingDummies:\\n\", EnergyRating_dummies)\n",
    "\n",
    "categ_features = EnergyRating_dummies.columns.values.tolist()\n",
    "\n",
    "features = cont_features + categ_features\n",
    "print(\"\\nCont features: \", cont_features)\n",
    "print(\"Categ features: \", categ_features)\n",
    "print(\"Features: \", features)"
   ]
  },
  {
   "cell_type": "code",
   "execution_count": 29,
   "metadata": {},
   "outputs": [
    {
     "name": "stdout",
     "output_type": "stream",
     "text": [
      "   ID  Size  Floor  BroadbandRate EnergyRating  RentalPrice  EnergyRating_B  \\\n",
      "0   1   500      4              8            C          320               0   \n",
      "1   2   550      7             50            A          380               0   \n",
      "2   3   620      9              7            A          400               0   \n",
      "3   4   630      5             24            B          390               1   \n",
      "4   5   665      8            100            C          385               0   \n",
      "5   6   700      4              8            B          410               1   \n",
      "6   7   770     10              7            B          480               1   \n",
      "7   8   880     12             50            A          600               0   \n",
      "8   9   920     14              8            C          570               0   \n",
      "9  10  1000      9             24            B          620               1   \n",
      "\n",
      "   EnergyRating_C  \n",
      "0               1  \n",
      "1               0  \n",
      "2               0  \n",
      "3               0  \n",
      "4               1  \n",
      "5               0  \n",
      "6               0  \n",
      "7               0  \n",
      "8               1  \n",
      "9               0  \n",
      "   ID  Size  Floor  BroadbandRate  RentalPrice  EnergyRating_B  EnergyRating_C\n",
      "0   1   500      4              8          320               0               1\n",
      "1   2   550      7             50          380               0               0\n",
      "2   3   620      9              7          400               0               0\n",
      "3   4   630      5             24          390               1               0\n",
      "4   5   665      8            100          385               0               1\n",
      "5   6   700      4              8          410               1               0\n",
      "6   7   770     10              7          480               1               0\n",
      "7   8   880     12             50          600               0               0\n",
      "8   9   920     14              8          570               0               1\n",
      "9  10  1000      9             24          620               1               0\n"
     ]
    }
   ],
   "source": [
    "df_all = pd.concat([df, EnergyRating_dummies], axis=1)\n",
    "print(df_all)\n",
    "\n",
    "df_all = df_all.drop('EnergyRating', axis = 1)\n",
    "print(df_all)"
   ]
  },
  {
   "cell_type": "code",
   "execution_count": 30,
   "metadata": {},
   "outputs": [
    {
     "data": {
      "text/html": [
       "<div>\n",
       "<style scoped>\n",
       "    .dataframe tbody tr th:only-of-type {\n",
       "        vertical-align: middle;\n",
       "    }\n",
       "\n",
       "    .dataframe tbody tr th {\n",
       "        vertical-align: top;\n",
       "    }\n",
       "\n",
       "    .dataframe thead th {\n",
       "        text-align: right;\n",
       "    }\n",
       "</style>\n",
       "<table border=\"1\" class=\"dataframe\">\n",
       "  <thead>\n",
       "    <tr style=\"text-align: right;\">\n",
       "      <th></th>\n",
       "      <th>ID</th>\n",
       "      <th>Size</th>\n",
       "      <th>Floor</th>\n",
       "      <th>BroadbandRate</th>\n",
       "      <th>RentalPrice</th>\n",
       "      <th>EnergyRating_B</th>\n",
       "      <th>EnergyRating_C</th>\n",
       "    </tr>\n",
       "  </thead>\n",
       "  <tbody>\n",
       "    <tr>\n",
       "      <th>0</th>\n",
       "      <td>1</td>\n",
       "      <td>500</td>\n",
       "      <td>4</td>\n",
       "      <td>8</td>\n",
       "      <td>320</td>\n",
       "      <td>0</td>\n",
       "      <td>1</td>\n",
       "    </tr>\n",
       "    <tr>\n",
       "      <th>1</th>\n",
       "      <td>2</td>\n",
       "      <td>550</td>\n",
       "      <td>7</td>\n",
       "      <td>50</td>\n",
       "      <td>380</td>\n",
       "      <td>0</td>\n",
       "      <td>0</td>\n",
       "    </tr>\n",
       "    <tr>\n",
       "      <th>2</th>\n",
       "      <td>3</td>\n",
       "      <td>620</td>\n",
       "      <td>9</td>\n",
       "      <td>7</td>\n",
       "      <td>400</td>\n",
       "      <td>0</td>\n",
       "      <td>0</td>\n",
       "    </tr>\n",
       "    <tr>\n",
       "      <th>3</th>\n",
       "      <td>4</td>\n",
       "      <td>630</td>\n",
       "      <td>5</td>\n",
       "      <td>24</td>\n",
       "      <td>390</td>\n",
       "      <td>1</td>\n",
       "      <td>0</td>\n",
       "    </tr>\n",
       "    <tr>\n",
       "      <th>4</th>\n",
       "      <td>5</td>\n",
       "      <td>665</td>\n",
       "      <td>8</td>\n",
       "      <td>100</td>\n",
       "      <td>385</td>\n",
       "      <td>0</td>\n",
       "      <td>1</td>\n",
       "    </tr>\n",
       "    <tr>\n",
       "      <th>5</th>\n",
       "      <td>6</td>\n",
       "      <td>700</td>\n",
       "      <td>4</td>\n",
       "      <td>8</td>\n",
       "      <td>410</td>\n",
       "      <td>1</td>\n",
       "      <td>0</td>\n",
       "    </tr>\n",
       "    <tr>\n",
       "      <th>6</th>\n",
       "      <td>7</td>\n",
       "      <td>770</td>\n",
       "      <td>10</td>\n",
       "      <td>7</td>\n",
       "      <td>480</td>\n",
       "      <td>1</td>\n",
       "      <td>0</td>\n",
       "    </tr>\n",
       "    <tr>\n",
       "      <th>7</th>\n",
       "      <td>8</td>\n",
       "      <td>880</td>\n",
       "      <td>12</td>\n",
       "      <td>50</td>\n",
       "      <td>600</td>\n",
       "      <td>0</td>\n",
       "      <td>0</td>\n",
       "    </tr>\n",
       "    <tr>\n",
       "      <th>8</th>\n",
       "      <td>9</td>\n",
       "      <td>920</td>\n",
       "      <td>14</td>\n",
       "      <td>8</td>\n",
       "      <td>570</td>\n",
       "      <td>0</td>\n",
       "      <td>1</td>\n",
       "    </tr>\n",
       "    <tr>\n",
       "      <th>9</th>\n",
       "      <td>10</td>\n",
       "      <td>1000</td>\n",
       "      <td>9</td>\n",
       "      <td>24</td>\n",
       "      <td>620</td>\n",
       "      <td>1</td>\n",
       "      <td>0</td>\n",
       "    </tr>\n",
       "  </tbody>\n",
       "</table>\n",
       "</div>"
      ],
      "text/plain": [
       "   ID  Size  Floor  BroadbandRate  RentalPrice  EnergyRating_B  EnergyRating_C\n",
       "0   1   500      4              8          320               0               1\n",
       "1   2   550      7             50          380               0               0\n",
       "2   3   620      9              7          400               0               0\n",
       "3   4   630      5             24          390               1               0\n",
       "4   5   665      8            100          385               0               1\n",
       "5   6   700      4              8          410               1               0\n",
       "6   7   770     10              7          480               1               0\n",
       "7   8   880     12             50          600               0               0\n",
       "8   9   920     14              8          570               0               1\n",
       "9  10  1000      9             24          620               1               0"
      ]
     },
     "execution_count": 30,
     "metadata": {},
     "output_type": "execute_result"
    }
   ],
   "source": [
    "#We can also do this directly for all categorical features\n",
    "df = pd.get_dummies(df, drop_first=True, dtype = int)\n",
    "df"
   ]
  },
  {
   "cell_type": "code",
   "execution_count": 31,
   "metadata": {},
   "outputs": [
    {
     "name": "stdout",
     "output_type": "stream",
     "text": [
      "\n",
      "Descriptive features in X:\n",
      "    Size  Floor  BroadbandRate  EnergyRating_B  EnergyRating_C\n",
      "0   500      4              8               0               1\n",
      "1   550      7             50               0               0\n",
      "2   620      9              7               0               0\n",
      "3   630      5             24               1               0\n",
      "4   665      8            100               0               1\n",
      "5   700      4              8               1               0\n",
      "6   770     10              7               1               0\n",
      "7   880     12             50               0               0\n",
      "8   920     14              8               0               1\n",
      "9  1000      9             24               1               0\n",
      "\n",
      "Target feature in y:\n",
      " 0    320\n",
      "1    380\n",
      "2    400\n",
      "3    390\n",
      "4    385\n",
      "5    410\n",
      "6    480\n",
      "7    600\n",
      "8    570\n",
      "9    620\n",
      "Name: RentalPrice, dtype: int64\n"
     ]
    }
   ],
   "source": [
    "X = df_all[features]\n",
    "y = df_all.RentalPrice\n",
    "\n",
    "print(\"\\nDescriptive features in X:\\n\", X)\n",
    "print(\"\\nTarget feature in y:\\n\", y)"
   ]
  },
  {
   "cell_type": "code",
   "execution_count": 32,
   "metadata": {},
   "outputs": [
    {
     "name": "stdout",
     "output_type": "stream",
     "text": [
      "\n",
      "Intercept: \n",
      " 25.080947305273526\n",
      "Features and coeficients: [('Size', np.float64(0.6431537548899604)), ('Floor', np.float64(0.016720058467198262)), ('BroadbandRate', np.float64(-0.13248786053570658)), ('EnergyRating_B', np.float64(-46.55546395082575)), ('EnergyRating_C', np.float64(-42.09485018646428))]\n"
     ]
    },
    {
     "data": {
      "text/html": [
       "<div>\n",
       "<style scoped>\n",
       "    .dataframe tbody tr th:only-of-type {\n",
       "        vertical-align: middle;\n",
       "    }\n",
       "\n",
       "    .dataframe tbody tr th {\n",
       "        vertical-align: top;\n",
       "    }\n",
       "\n",
       "    .dataframe thead th {\n",
       "        text-align: right;\n",
       "    }\n",
       "</style>\n",
       "<table border=\"1\" class=\"dataframe\">\n",
       "  <thead>\n",
       "    <tr style=\"text-align: right;\">\n",
       "      <th></th>\n",
       "      <th>feature</th>\n",
       "      <th>importance</th>\n",
       "    </tr>\n",
       "  </thead>\n",
       "  <tbody>\n",
       "    <tr>\n",
       "      <th>0</th>\n",
       "      <td>Size</td>\n",
       "      <td>0.643154</td>\n",
       "    </tr>\n",
       "    <tr>\n",
       "      <th>1</th>\n",
       "      <td>Floor</td>\n",
       "      <td>0.016720</td>\n",
       "    </tr>\n",
       "    <tr>\n",
       "      <th>2</th>\n",
       "      <td>BroadbandRate</td>\n",
       "      <td>-0.132488</td>\n",
       "    </tr>\n",
       "    <tr>\n",
       "      <th>4</th>\n",
       "      <td>EnergyRating_C</td>\n",
       "      <td>-42.094850</td>\n",
       "    </tr>\n",
       "    <tr>\n",
       "      <th>3</th>\n",
       "      <td>EnergyRating_B</td>\n",
       "      <td>-46.555464</td>\n",
       "    </tr>\n",
       "  </tbody>\n",
       "</table>\n",
       "</div>"
      ],
      "text/plain": [
       "          feature  importance\n",
       "0            Size    0.643154\n",
       "1           Floor    0.016720\n",
       "2   BroadbandRate   -0.132488\n",
       "4  EnergyRating_C  -42.094850\n",
       "3  EnergyRating_B  -46.555464"
      ]
     },
     "execution_count": 32,
     "metadata": {},
     "output_type": "execute_result"
    }
   ],
   "source": [
    "# Use more features for training\n",
    "# Train aka fit, a model using all continuous and categorical features.\n",
    "\n",
    "categ_linreg = LinearRegression().fit(X, y)\n",
    "\n",
    "# Print the weights learned for each feature.\n",
    "#print(\"Features: \\n\", features)\n",
    "#print(\"Coeficients: \\n\", categ_linreg.coef_)\n",
    "print(\"\\nIntercept: \\n\", categ_linreg.intercept_)\n",
    "print(\"Features and coeficients:\", list(zip(features, categ_linreg.coef_)))\n",
    "\n",
    "feature_importance = pd.DataFrame({'feature': features, 'importance':categ_linreg.coef_})\n",
    "feature_importance.sort_values('importance', ascending=False)"
   ]
  },
  {
   "cell_type": "code",
   "execution_count": 33,
   "metadata": {},
   "outputs": [
    {
     "name": "stdout",
     "output_type": "stream",
     "text": [
      "\n",
      "Predictions with multiple linear regression: \n",
      "\n",
      "   RentalPrice   Predicted\n",
      "0          320  303.569952\n",
      "1          380  372.308160\n",
      "2          400  423.059341\n",
      "3          390  380.616241\n",
      "4          385  397.568319\n",
      "5          410  427.740089\n",
      "6          480  472.993660\n",
      "7          600  584.632499\n",
      "8          570  573.861730\n",
      "9          620  618.650010\n"
     ]
    }
   ],
   "source": [
    "categ_linreg_predictions = categ_linreg.predict(X[features])\n",
    "\n",
    "print(\"\\nPredictions with multiple linear regression: \\n\")\n",
    "actual_vs_predicted_linreg = pd.concat([df.RentalPrice, pd.DataFrame(categ_linreg_predictions, columns=['Predicted'], index=df.index)], axis=1)\n",
    "print(actual_vs_predicted_linreg)"
   ]
  },
  {
   "cell_type": "code",
   "execution_count": 34,
   "metadata": {},
   "outputs": [
    {
     "name": "stdout",
     "output_type": "stream",
     "text": [
      "\n",
      "==============================================================================\n",
      "MAE:  11.445895610626838\n",
      "RMSE:  13.128429922471305\n",
      "R2:  0.9827855205144458\n"
     ]
    }
   ],
   "source": [
    "printMetrics(y, categ_linreg_predictions)"
   ]
  },
  {
   "cell_type": "markdown",
   "metadata": {},
   "source": [
    "# Evaluation with train/test split"
   ]
  },
  {
   "cell_type": "code",
   "execution_count": 35,
   "metadata": {},
   "outputs": [
    {
     "name": "stdout",
     "output_type": "stream",
     "text": [
      "Training data:\n",
      "    Size  Floor  BroadbandRate  EnergyRating_B  EnergyRating_C  RentalPrice\n",
      "9  1000      9             24               1               0          620\n",
      "1   550      7             50               0               0          380\n",
      "6   770     10              7               1               0          480\n",
      "7   880     12             50               0               0          600\n",
      "3   630      5             24               1               0          390\n",
      "0   500      4              8               0               1          320\n",
      "5   700      4              8               1               0          410\n",
      "\n",
      "Test data:\n",
      "    Size  Floor  BroadbandRate  EnergyRating_B  EnergyRating_C  RentalPrice\n",
      "2   620      9              7               0               0          400\n",
      "8   920     14              8               0               1          570\n",
      "4   665      8            100               0               1          385\n"
     ]
    }
   ],
   "source": [
    "# Split the data into train and test sets\n",
    "# Take a third (random) data samples as test data, rest as training data\n",
    "# Note that this training set is very small and the model will not be very reliable due to this sample size problem.\n",
    "#X_train, X_test, y_train, y_test = train_test_split(X, y, test_size=0.3)\n",
    "# If we want to get the same train/test split every time we run, we can set the random_state variable to a fixed value\n",
    "X_train, X_test, y_train, y_test = train_test_split(X, y, test_size=0.3, random_state=0)\n",
    "\n",
    "print(\"Training data:\\n\", pd.concat([X_train, y_train], axis=1))\n",
    "print(\"\\nTest data:\\n\", pd.concat([X_test, y_test], axis=1))"
   ]
  },
  {
   "cell_type": "code",
   "execution_count": 36,
   "metadata": {},
   "outputs": [
    {
     "name": "stdout",
     "output_type": "stream",
     "text": [
      "Features and coeficients: [('Size', np.float64(0.5736313285095399)), ('Floor', np.float64(5.3084695650788625)), ('BroadbandRate', np.float64(0.8572287866561733)), ('EnergyRating_B', np.float64(-6.7866198549002705)), ('EnergyRating_C', np.float64(18.530927277045194))]\n"
     ]
    },
    {
     "data": {
      "text/html": [
       "<div>\n",
       "<style scoped>\n",
       "    .dataframe tbody tr th:only-of-type {\n",
       "        vertical-align: middle;\n",
       "    }\n",
       "\n",
       "    .dataframe tbody tr th {\n",
       "        vertical-align: top;\n",
       "    }\n",
       "\n",
       "    .dataframe thead th {\n",
       "        text-align: right;\n",
       "    }\n",
       "</style>\n",
       "<table border=\"1\" class=\"dataframe\">\n",
       "  <thead>\n",
       "    <tr style=\"text-align: right;\">\n",
       "      <th></th>\n",
       "      <th>feature</th>\n",
       "      <th>importance</th>\n",
       "    </tr>\n",
       "  </thead>\n",
       "  <tbody>\n",
       "    <tr>\n",
       "      <th>0</th>\n",
       "      <td>Size</td>\n",
       "      <td>0.643154</td>\n",
       "    </tr>\n",
       "    <tr>\n",
       "      <th>1</th>\n",
       "      <td>Floor</td>\n",
       "      <td>0.016720</td>\n",
       "    </tr>\n",
       "    <tr>\n",
       "      <th>2</th>\n",
       "      <td>BroadbandRate</td>\n",
       "      <td>-0.132488</td>\n",
       "    </tr>\n",
       "    <tr>\n",
       "      <th>4</th>\n",
       "      <td>EnergyRating_C</td>\n",
       "      <td>-42.094850</td>\n",
       "    </tr>\n",
       "    <tr>\n",
       "      <th>3</th>\n",
       "      <td>EnergyRating_B</td>\n",
       "      <td>-46.555464</td>\n",
       "    </tr>\n",
       "  </tbody>\n",
       "</table>\n",
       "</div>"
      ],
      "text/plain": [
       "          feature  importance\n",
       "0            Size    0.643154\n",
       "1           Floor    0.016720\n",
       "2   BroadbandRate   -0.132488\n",
       "4  EnergyRating_C  -42.094850\n",
       "3  EnergyRating_B  -46.555464"
      ]
     },
     "execution_count": 36,
     "metadata": {},
     "output_type": "execute_result"
    }
   ],
   "source": [
    "# Train on the training sample and test on the test sample.\n",
    "linreg = LinearRegression().fit(X_train, y_train)\n",
    "# Print the weights learned for each feature.\n",
    "#print(linreg_train.coef_)\n",
    "print(\"Features and coeficients:\", list(zip(features, linreg.coef_)))\n",
    "\n",
    "feature_importance = pd.DataFrame({'feature': features, 'importance':categ_linreg.coef_})\n",
    "feature_importance.sort_values('importance', ascending=False)"
   ]
  },
  {
   "cell_type": "code",
   "execution_count": 37,
   "metadata": {},
   "outputs": [
    {
     "data": {
      "text/html": [
       "<div>\n",
       "<style scoped>\n",
       "    .dataframe tbody tr th:only-of-type {\n",
       "        vertical-align: middle;\n",
       "    }\n",
       "\n",
       "    .dataframe tbody tr th {\n",
       "        vertical-align: top;\n",
       "    }\n",
       "\n",
       "    .dataframe thead th {\n",
       "        text-align: right;\n",
       "    }\n",
       "</style>\n",
       "<table border=\"1\" class=\"dataframe\">\n",
       "  <thead>\n",
       "    <tr style=\"text-align: right;\">\n",
       "      <th></th>\n",
       "      <th>Size</th>\n",
       "      <th>Floor</th>\n",
       "      <th>BroadbandRate</th>\n",
       "      <th>EnergyRating_B</th>\n",
       "      <th>EnergyRating_C</th>\n",
       "    </tr>\n",
       "  </thead>\n",
       "  <tbody>\n",
       "    <tr>\n",
       "      <th>9</th>\n",
       "      <td>1000</td>\n",
       "      <td>9</td>\n",
       "      <td>24</td>\n",
       "      <td>1</td>\n",
       "      <td>0</td>\n",
       "    </tr>\n",
       "    <tr>\n",
       "      <th>1</th>\n",
       "      <td>550</td>\n",
       "      <td>7</td>\n",
       "      <td>50</td>\n",
       "      <td>0</td>\n",
       "      <td>0</td>\n",
       "    </tr>\n",
       "    <tr>\n",
       "      <th>6</th>\n",
       "      <td>770</td>\n",
       "      <td>10</td>\n",
       "      <td>7</td>\n",
       "      <td>1</td>\n",
       "      <td>0</td>\n",
       "    </tr>\n",
       "    <tr>\n",
       "      <th>7</th>\n",
       "      <td>880</td>\n",
       "      <td>12</td>\n",
       "      <td>50</td>\n",
       "      <td>0</td>\n",
       "      <td>0</td>\n",
       "    </tr>\n",
       "    <tr>\n",
       "      <th>3</th>\n",
       "      <td>630</td>\n",
       "      <td>5</td>\n",
       "      <td>24</td>\n",
       "      <td>1</td>\n",
       "      <td>0</td>\n",
       "    </tr>\n",
       "    <tr>\n",
       "      <th>0</th>\n",
       "      <td>500</td>\n",
       "      <td>4</td>\n",
       "      <td>8</td>\n",
       "      <td>0</td>\n",
       "      <td>1</td>\n",
       "    </tr>\n",
       "    <tr>\n",
       "      <th>5</th>\n",
       "      <td>700</td>\n",
       "      <td>4</td>\n",
       "      <td>8</td>\n",
       "      <td>1</td>\n",
       "      <td>0</td>\n",
       "    </tr>\n",
       "  </tbody>\n",
       "</table>\n",
       "</div>"
      ],
      "text/plain": [
       "   Size  Floor  BroadbandRate  EnergyRating_B  EnergyRating_C\n",
       "9  1000      9             24               1               0\n",
       "1   550      7             50               0               0\n",
       "6   770     10              7               1               0\n",
       "7   880     12             50               0               0\n",
       "3   630      5             24               1               0\n",
       "0   500      4              8               0               1\n",
       "5   700      4              8               1               0"
      ]
     },
     "execution_count": 37,
     "metadata": {},
     "output_type": "execute_result"
    }
   ],
   "source": [
    "X_train"
   ]
  },
  {
   "cell_type": "code",
   "execution_count": 38,
   "metadata": {},
   "outputs": [
    {
     "data": {
      "text/plain": [
       "9    620\n",
       "1    380\n",
       "6    480\n",
       "7    600\n",
       "3    390\n",
       "0    320\n",
       "5    410\n",
       "Name: RentalPrice, dtype: int64"
      ]
     },
     "execution_count": 38,
     "metadata": {},
     "output_type": "execute_result"
    }
   ],
   "source": [
    "y_train"
   ]
  },
  {
   "cell_type": "code",
   "execution_count": 39,
   "metadata": {},
   "outputs": [
    {
     "name": "stdout",
     "output_type": "stream",
     "text": [
      "Actual vs predicted on training:\n",
      "    RentalPrice   Predicted\n",
      "9          620  621.756126\n",
      "1          380  382.079657\n",
      "6          480  480.556500\n",
      "7          600  597.920343\n",
      "3          390  388.278656\n",
      "0          320  320.000000\n",
      "5          410  409.408719\n",
      "\n",
      "==============================================================================\n",
      "MAE:  1.2549378821125694\n",
      "RMSE:  1.4811315498526822\n",
      "R2:  0.9998054763251348\n"
     ]
    }
   ],
   "source": [
    "# Predicted price on training set\n",
    "train_predictions = linreg.predict(X_train)\n",
    "\n",
    "print(\"Actual vs predicted on training:\\n\", pd.concat([y_train, pd.DataFrame(train_predictions, columns=['Predicted'], index=y_train.index)], axis=1))\n",
    "printMetrics(y_train, train_predictions)"
   ]
  },
  {
   "cell_type": "code",
   "execution_count": 40,
   "metadata": {},
   "outputs": [
    {
     "name": "stdout",
     "output_type": "stream",
     "text": [
      "Actual vs predicted on test:\n",
      "    RentalPrice   Predicted\n",
      "2          400  395.989951\n",
      "8          570  614.009854\n",
      "4          385  514.748096\n",
      "\n",
      "==============================================================================\n",
      "MAE:  59.255999426238496\n",
      "RMSE:  79.13599282428626\n",
      "R2:  0.11029915954902325\n"
     ]
    }
   ],
   "source": [
    "# Predicted price on test set\n",
    "test_predictions = linreg.predict(X_test)\n",
    "print(\"Actual vs predicted on test:\\n\", pd.concat([y_test, pd.DataFrame(test_predictions, columns=['Predicted'], index=y_test.index)], axis=1))\n",
    "printMetrics(y_test, test_predictions)"
   ]
  },
  {
   "cell_type": "markdown",
   "metadata": {},
   "source": [
    "# Evaluation with cross-validation"
   ]
  },
  {
   "cell_type": "code",
   "execution_count": 41,
   "metadata": {},
   "outputs": [],
   "source": [
    "#sorted(metrics.SCORERS.keys())"
   ]
  },
  {
   "cell_type": "code",
   "execution_count": null,
   "metadata": {},
   "outputs": [
    {
     "name": "stdout",
     "output_type": "stream",
     "text": [
      "[43.46049301 28.52278234 53.27445054 21.51730931  8.2908062 ]\n",
      "Avg MAE score over 5 folds: 31.013168279170685\n",
      "Stddev MAE score over 5 folds: 15.894525339987181\n"
     ]
    }
   ],
   "source": [
    "scores = -cross_val_score(LinearRegression(), X, y, scoring='neg_mean_absolute_error', cv=5)\n",
    "print(scores)\n",
    "print(\"Avg MAE score over 5 folds:\", np.mean(scores))\n",
    "print(\"Stddev MAE score over 5 folds:\", np.std(scores))"
   ]
  },
  {
   "cell_type": "code",
   "execution_count": 43,
   "metadata": {},
   "outputs": [
    {
     "data": {
      "text/plain": [
       "{'fit_time': array([0.00400019, 0.0039959 , 0.0019989 , 0.00199986, 0.00313711]),\n",
       " 'score_time': array([0.0030036 , 0.00400043, 0.00300026, 0.00500226, 0.00500298]),\n",
       " 'test_neg_mean_absolute_error': array([-43.46049301, -28.52278234, -53.27445054, -21.51730931,\n",
       "         -8.2908062 ]),\n",
       " 'test_neg_mean_squared_error': array([-2488.01107511, -1034.8429953 , -4195.344399  ,  -551.70794832,\n",
       "         -131.38455052]),\n",
       " 'test_r2': array([ -1.76445675, -40.39371981, -25.85020415,   0.84674779,\n",
       "          0.78978472])}"
      ]
     },
     "execution_count": 43,
     "metadata": {},
     "output_type": "execute_result"
    }
   ],
   "source": [
    "eval_measures = ['neg_mean_absolute_error', 'neg_mean_squared_error', 'r2']\n",
    "scores = cross_validate(LinearRegression(), X, y, scoring=eval_measures, cv=5)\n",
    "scores"
   ]
  },
  {
   "cell_type": "code",
   "execution_count": 44,
   "metadata": {},
   "outputs": [
    {
     "name": "stdout",
     "output_type": "stream",
     "text": [
      "[43.46049301 28.52278234 53.27445054 21.51730931  8.2908062 ]\n",
      "Avg MAE score over 5 folds: 31.013168279170685\n",
      "Stddev MAE score over 5 folds: 15.894525339987181\n"
     ]
    }
   ],
   "source": [
    "scores = -cross_val_score(LinearRegression(), X, y, scoring='neg_mean_absolute_error', cv=5)\n",
    "print(scores)\n",
    "print(\"Avg MAE score over 5 folds:\", np.mean(scores))\n",
    "print(\"Stddev MAE score over 5 folds:\", np.std(scores))\n"
   ]
  },
  {
   "cell_type": "code",
   "execution_count": 45,
   "metadata": {},
   "outputs": [
    {
     "name": "stdout",
     "output_type": "stream",
     "text": [
      "[2488.01107511 1034.8429953  4195.344399    551.70794832  131.38455052]\n",
      "Avg RMSE score over 5 folds: 36.35423895444225\n",
      "Stddev RMSE score over 5 folds: 18.937462968760833\n"
     ]
    }
   ],
   "source": [
    "scores = -cross_val_score(LinearRegression(), X, y, scoring='neg_mean_squared_error', cv=5)\n",
    "print(scores)\n",
    "#print(\"Avg MSE score over 5 folds:\", np.mean(scores))\n",
    "#print(\"Stddev MSE score over 5 folds:\", np.std(scores))\n",
    "\n",
    "rmse = scores**0.5\n",
    "print(\"Avg RMSE score over 5 folds:\", np.mean(rmse))\n",
    "print(\"Stddev RMSE score over 5 folds:\", np.std(rmse))"
   ]
  },
  {
   "cell_type": "markdown",
   "metadata": {},
   "source": [
    "## Example of regularised linear regression (tends to be more robust and accurate than plain linear regression)"
   ]
  },
  {
   "cell_type": "code",
   "execution_count": 46,
   "metadata": {},
   "outputs": [],
   "source": [
    "#from sklearn.preprocessing import StandardScaler\n",
    "from sklearn.linear_model import LinearRegression, Ridge, Lasso, ElasticNet, RidgeCV, LassoCV, ElasticNetCV\n",
    "\n",
    "#for more example of regression algorithms check out this code for a regression data challenge: \n",
    "# https://github.com/mlgig/vistamilk-spectroscopy-challenge/blob/main/29042021-MLGIGTeam-tabular-models-notebook.ipynb"
   ]
  },
  {
   "cell_type": "code",
   "execution_count": 47,
   "metadata": {},
   "outputs": [
    {
     "name": "stdout",
     "output_type": "stream",
     "text": [
      "LinReg\n",
      "\n",
      "Intercept: \n",
      " -13.43830008537958\n",
      "Features and coeficients: [('Size', np.float64(0.5736313285095399)), ('Floor', np.float64(5.3084695650788625)), ('BroadbandRate', np.float64(0.8572287866561733)), ('EnergyRating_B', np.float64(-6.7866198549002705)), ('EnergyRating_C', np.float64(18.530927277045194))]\n",
      "\n",
      "==============================================================================\n",
      "MAE:  59.255999426238496\n",
      "RMSE:  79.13599282428626\n",
      "R2:  0.11029915954902325\n"
     ]
    },
    {
     "data": {
      "text/html": [
       "<div>\n",
       "<style scoped>\n",
       "    .dataframe tbody tr th:only-of-type {\n",
       "        vertical-align: middle;\n",
       "    }\n",
       "\n",
       "    .dataframe tbody tr th {\n",
       "        vertical-align: top;\n",
       "    }\n",
       "\n",
       "    .dataframe thead th {\n",
       "        text-align: right;\n",
       "    }\n",
       "</style>\n",
       "<table border=\"1\" class=\"dataframe\">\n",
       "  <thead>\n",
       "    <tr style=\"text-align: right;\">\n",
       "      <th></th>\n",
       "      <th>feature</th>\n",
       "      <th>importance</th>\n",
       "    </tr>\n",
       "  </thead>\n",
       "  <tbody>\n",
       "    <tr>\n",
       "      <th>4</th>\n",
       "      <td>EnergyRating_C</td>\n",
       "      <td>18.530927</td>\n",
       "    </tr>\n",
       "    <tr>\n",
       "      <th>1</th>\n",
       "      <td>Floor</td>\n",
       "      <td>5.308470</td>\n",
       "    </tr>\n",
       "    <tr>\n",
       "      <th>2</th>\n",
       "      <td>BroadbandRate</td>\n",
       "      <td>0.857229</td>\n",
       "    </tr>\n",
       "    <tr>\n",
       "      <th>0</th>\n",
       "      <td>Size</td>\n",
       "      <td>0.573631</td>\n",
       "    </tr>\n",
       "    <tr>\n",
       "      <th>3</th>\n",
       "      <td>EnergyRating_B</td>\n",
       "      <td>-6.786620</td>\n",
       "    </tr>\n",
       "  </tbody>\n",
       "</table>\n",
       "</div>"
      ],
      "text/plain": [
       "          feature  importance\n",
       "4  EnergyRating_C   18.530927\n",
       "1           Floor    5.308470\n",
       "2   BroadbandRate    0.857229\n",
       "0            Size    0.573631\n",
       "3  EnergyRating_B   -6.786620"
      ]
     },
     "execution_count": 47,
     "metadata": {},
     "output_type": "execute_result"
    }
   ],
   "source": [
    "linreg = LinearRegression()\n",
    "\n",
    "linreg.fit(X_train, y_train)\n",
    "#ridgecv = RidgeCV(normalize=True).fit(X_train, y_train)\n",
    "\n",
    "# Print the weights learned for each feature.\n",
    "print(\"LinReg\")\n",
    "print(\"\\nIntercept: \\n\", linreg.intercept_)\n",
    "print(\"Features and coeficients:\", list(zip(features, linreg.coef_))[:10])\n",
    "#print(\"Sorted features and coefs: \\n\", sorted(ridgecv.coef_, reverse=False)[:10])\n",
    "\n",
    "# Predicted price on test set\n",
    "test_predictions = linreg.predict(X_test)\n",
    "printMetrics(y_test, test_predictions)\n",
    "#print(\"Actual vs predicted on test:\\n\", pd.concat([y_test, pd.DataFrame(test_predictions, columns=['Predicted'], index=y_test.index)], axis=1).sort_values('kappa_casein'))\n",
    "\n",
    "feature_importance = pd.DataFrame({'feature': features, 'importance':linreg.coef_})\n",
    "feature_importance.sort_values('importance', ascending=False)"
   ]
  },
  {
   "cell_type": "code",
   "execution_count": 48,
   "metadata": {},
   "outputs": [
    {
     "name": "stdout",
     "output_type": "stream",
     "text": [
      "Lasso\n",
      "\n",
      "Intercept: \n",
      " 4.956812804272602\n",
      "Features and coeficients: [('Size', np.float64(0.5660720105766139)), ('Floor', np.float64(4.921132753277452)), ('BroadbandRate', np.float64(0.6705974800827407)), ('EnergyRating_B', np.float64(-11.922460585393699)), ('EnergyRating_C', np.float64(0.0))]\n",
      "\n",
      "==============================================================================\n",
      "MAE:  45.911015765122634\n",
      "RMSE:  61.9057441685862\n",
      "R2:  0.4555502691460457\n"
     ]
    },
    {
     "data": {
      "text/html": [
       "<div>\n",
       "<style scoped>\n",
       "    .dataframe tbody tr th:only-of-type {\n",
       "        vertical-align: middle;\n",
       "    }\n",
       "\n",
       "    .dataframe tbody tr th {\n",
       "        vertical-align: top;\n",
       "    }\n",
       "\n",
       "    .dataframe thead th {\n",
       "        text-align: right;\n",
       "    }\n",
       "</style>\n",
       "<table border=\"1\" class=\"dataframe\">\n",
       "  <thead>\n",
       "    <tr style=\"text-align: right;\">\n",
       "      <th></th>\n",
       "      <th>feature</th>\n",
       "      <th>importance</th>\n",
       "    </tr>\n",
       "  </thead>\n",
       "  <tbody>\n",
       "    <tr>\n",
       "      <th>1</th>\n",
       "      <td>Floor</td>\n",
       "      <td>4.921133</td>\n",
       "    </tr>\n",
       "    <tr>\n",
       "      <th>2</th>\n",
       "      <td>BroadbandRate</td>\n",
       "      <td>0.670597</td>\n",
       "    </tr>\n",
       "    <tr>\n",
       "      <th>0</th>\n",
       "      <td>Size</td>\n",
       "      <td>0.566072</td>\n",
       "    </tr>\n",
       "    <tr>\n",
       "      <th>4</th>\n",
       "      <td>EnergyRating_C</td>\n",
       "      <td>0.000000</td>\n",
       "    </tr>\n",
       "    <tr>\n",
       "      <th>3</th>\n",
       "      <td>EnergyRating_B</td>\n",
       "      <td>-11.922461</td>\n",
       "    </tr>\n",
       "  </tbody>\n",
       "</table>\n",
       "</div>"
      ],
      "text/plain": [
       "          feature  importance\n",
       "1           Floor    4.921133\n",
       "2   BroadbandRate    0.670597\n",
       "0            Size    0.566072\n",
       "4  EnergyRating_C    0.000000\n",
       "3  EnergyRating_B  -11.922461"
      ]
     },
     "execution_count": 48,
     "metadata": {},
     "output_type": "execute_result"
    }
   ],
   "source": [
    "lasso = Lasso()\n",
    "\n",
    "lasso.fit(X_train, y_train)\n",
    "\n",
    "# Print the weights learned for each feature.\n",
    "print(\"Lasso\")\n",
    "print(\"\\nIntercept: \\n\", lasso.intercept_)\n",
    "print(\"Features and coeficients:\", list(zip(features, lasso.coef_))[:10])\n",
    "#print(\"Sorted features and coefs: \\n\", sorted(ridgecv.coef_, reverse=False)[:10])\n",
    "\n",
    "# Predicted price on test set\n",
    "test_predictions = lasso.predict(X_test)\n",
    "printMetrics(y_test, test_predictions)\n",
    "#print(\"Actual vs predicted on test:\\n\", pd.concat([y_test, pd.DataFrame(test_predictions, columns=['Predicted'], index=y_test.index)], axis=1).sort_values('kappa_casein'))\n",
    "\n",
    "feature_importance = pd.DataFrame({'feature': features, 'importance':lasso.coef_})\n",
    "feature_importance.sort_values('importance', ascending=False)"
   ]
  },
  {
   "cell_type": "code",
   "execution_count": 49,
   "metadata": {},
   "outputs": [
    {
     "name": "stdout",
     "output_type": "stream",
     "text": [
      "Ridge\n",
      "\n",
      "Intercept: \n",
      " -8.050461828390723\n",
      "Features and coeficients: [('Size', np.float64(0.5739246413995716)), ('Floor', np.float64(5.154092074173867)), ('BroadbandRate', np.float64(0.7777401832687474)), ('EnergyRating_B', np.float64(-9.823597770360475)), ('EnergyRating_C', np.float64(12.954410518509759))]\n",
      "\n",
      "==============================================================================\n",
      "MAE:  54.08353121120634\n",
      "RMSE:  73.58124007809367\n",
      "R2:  0.23081625851822374\n"
     ]
    },
    {
     "data": {
      "text/html": [
       "<div>\n",
       "<style scoped>\n",
       "    .dataframe tbody tr th:only-of-type {\n",
       "        vertical-align: middle;\n",
       "    }\n",
       "\n",
       "    .dataframe tbody tr th {\n",
       "        vertical-align: top;\n",
       "    }\n",
       "\n",
       "    .dataframe thead th {\n",
       "        text-align: right;\n",
       "    }\n",
       "</style>\n",
       "<table border=\"1\" class=\"dataframe\">\n",
       "  <thead>\n",
       "    <tr style=\"text-align: right;\">\n",
       "      <th></th>\n",
       "      <th>feature</th>\n",
       "      <th>importance</th>\n",
       "    </tr>\n",
       "  </thead>\n",
       "  <tbody>\n",
       "    <tr>\n",
       "      <th>4</th>\n",
       "      <td>EnergyRating_C</td>\n",
       "      <td>12.954411</td>\n",
       "    </tr>\n",
       "    <tr>\n",
       "      <th>1</th>\n",
       "      <td>Floor</td>\n",
       "      <td>5.154092</td>\n",
       "    </tr>\n",
       "    <tr>\n",
       "      <th>2</th>\n",
       "      <td>BroadbandRate</td>\n",
       "      <td>0.777740</td>\n",
       "    </tr>\n",
       "    <tr>\n",
       "      <th>0</th>\n",
       "      <td>Size</td>\n",
       "      <td>0.573925</td>\n",
       "    </tr>\n",
       "    <tr>\n",
       "      <th>3</th>\n",
       "      <td>EnergyRating_B</td>\n",
       "      <td>-9.823598</td>\n",
       "    </tr>\n",
       "  </tbody>\n",
       "</table>\n",
       "</div>"
      ],
      "text/plain": [
       "          feature  importance\n",
       "4  EnergyRating_C   12.954411\n",
       "1           Floor    5.154092\n",
       "2   BroadbandRate    0.777740\n",
       "0            Size    0.573925\n",
       "3  EnergyRating_B   -9.823598"
      ]
     },
     "execution_count": 49,
     "metadata": {},
     "output_type": "execute_result"
    }
   ],
   "source": [
    "ridge = RidgeCV()\n",
    "ridge.fit(X_train, y_train)\n",
    "#ridgecv = RidgeCV().fit(X_train, y_train)\n",
    "\n",
    "# Print the weights learned for each feature.\n",
    "print(\"Ridge\")\n",
    "print(\"\\nIntercept: \\n\", ridge.intercept_)\n",
    "print(\"Features and coeficients:\", list(zip(features, ridge.coef_))[:10])\n",
    "#print(\"Sorted features and coefs: \\n\", sorted(ridgecv.coef_, reverse=False)[:10])\n",
    "\n",
    "# Predicted price on test set\n",
    "test_predictions = ridge.predict(X_test)\n",
    "printMetrics(y_test, test_predictions)\n",
    "#print(\"Actual vs predicted on test:\\n\", pd.concat([y_test, pd.DataFrame(test_predictions, columns=['Predicted'], index=y_test.index)], axis=1).sort_values('kappa_casein'))\n",
    "\n",
    "feature_importance = pd.DataFrame({'feature': features, 'importance':ridge.coef_})\n",
    "feature_importance.sort_values('importance', ascending=False)"
   ]
  },
  {
   "cell_type": "code",
   "execution_count": 50,
   "metadata": {},
   "outputs": [
    {
     "name": "stdout",
     "output_type": "stream",
     "text": [
      "Pipeline: Pipeline(steps=[('feature_scaler', StandardScaler()),\n",
      "                ('feature_selection', SelectFromModel(estimator=RidgeCV())),\n",
      "                ('learner', RidgeCV())])\n",
      "\n",
      "==============================================================================\n",
      "MAE:  17.867788703493222\n",
      "RMSE:  23.59088919609442\n",
      "R2:  0.9209349569445676\n"
     ]
    }
   ],
   "source": [
    "#Example using a pipeline to use different functions on the same data: scaling features, followed by feature selection, followed by poly2 features, followed by learning algorithm\n",
    "# Each step in the pipeline can be commented out to check the effect of each step\n",
    "from sklearn.pipeline import Pipeline\n",
    "from sklearn.feature_selection import SelectFromModel\n",
    "from sklearn.preprocessing import PolynomialFeatures\n",
    "from sklearn.preprocessing import StandardScaler\n",
    "from sklearn.pipeline import make_pipeline\n",
    "\n",
    "algo = Pipeline([ ('feature_scaler', StandardScaler()),\n",
    "                  ('feature_selection', SelectFromModel(RidgeCV())), \n",
    "                  # ('fpoly', PolynomialFeatures(degree=2)), \n",
    "                   ('learner', RidgeCV())\n",
    "                   ])\n",
    "\n",
    "'''\n",
    "algo = make_pipeline(StandardScaler(),\n",
    "                  SelectFromModel(RidgeCV()),\n",
    "                  PolynomialFeatures(degree=2), \n",
    "                  RidgeCV()\n",
    "                   )\n",
    "'''\n",
    "\n",
    "algo.fit(X_train, y_train)\n",
    "#ridgecv = RidgeCV().fit(X_train, y_train)\n",
    "\n",
    "# Print the weights learned for each feature.\n",
    "print(\"Pipeline:\", algo)\n",
    "\n",
    "# Predicted price on test set\n",
    "test_predictions = algo.predict(X_test)\n",
    "printMetrics(y_test, test_predictions)\n",
    "#print(\"Actual vs predicted on test:\\n\", pd.concat([y_test, pd.DataFrame(test_predictions, columns=['Predicted'], index=y_test.index)], axis=1).sort_values('kappa_casein'))\n"
   ]
  },
  {
   "cell_type": "code",
   "execution_count": null,
   "metadata": {},
   "outputs": [],
   "source": []
  }
 ],
 "metadata": {
  "kernelspec": {
   "display_name": "comp47350py311",
   "language": "python",
   "name": "python3"
  },
  "language_info": {
   "codemirror_mode": {
    "name": "ipython",
    "version": 3
   },
   "file_extension": ".py",
   "mimetype": "text/x-python",
   "name": "python",
   "nbconvert_exporter": "python",
   "pygments_lexer": "ipython3",
   "version": "3.11.11"
  }
 },
 "nbformat": 4,
 "nbformat_minor": 4
}
